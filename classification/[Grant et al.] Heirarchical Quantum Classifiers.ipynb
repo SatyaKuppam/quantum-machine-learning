{
 "cells": [
  {
   "cell_type": "markdown",
   "metadata": {},
   "source": [
    "## IRIS and MNIST classification using TTN and MERA"
   ]
  },
  {
   "cell_type": "code",
   "execution_count": 1,
   "metadata": {},
   "outputs": [],
   "source": [
    "import tensorflow as tf\n",
    "import tensorflow_quantum as tfq\n",
    "\n",
    "import cirq\n",
    "import sympy\n",
    "import numpy as np\n",
    "import os, csv\n",
    "\n",
    "# visualization tools\n",
    "%matplotlib inline\n",
    "import matplotlib.pyplot as plt\n",
    "from cirq.contrib.svg import SVGCircuit\n",
    "from sklearn.model_selection import train_test_split\n",
    "# TODO: mottonen will be changed to its subpackage and the relative path will change\n",
    "from mottonen import encode_classical_datapoint\n",
    "\n",
    "seed = 42\n",
    "np.random.seed(seed)"
   ]
  },
  {
   "cell_type": "code",
   "execution_count": 2,
   "metadata": {},
   "outputs": [
    {
     "name": "stdout",
     "output_type": "stream",
     "text": [
      "  % Total    % Received % Xferd  Average Speed   Time    Time     Time  Current\n",
      "                                 Dload  Upload   Total   Spent    Left  Speed\n",
      "100  4551  100  4551    0     0  17639      0 --:--:-- --:--:-- --:--:-- 17639\n"
     ]
    }
   ],
   "source": [
    "!export IRIS_URL=\"https://archive.ics.uci.edu/ml/machine-learning-databases/iris/iris.data\" && curl $IRIS_URL > iris.csv"
   ]
  },
  {
   "cell_type": "markdown",
   "metadata": {},
   "source": [
    "## Data Encoding\n",
    "\n",
    "### IRIS data set encoding\n",
    "We standardize the data and make this a binary classification problem.\n",
    "\n",
    "1. First we will fetch the IRIS dataset\n",
    "2. Only select the datagrams with labels 1 or 2, with label 1 as 0 and 2 as 1\n",
    "3. Standadize the data so that each dimension is only $[0, \\frac{\\pi}{2}]$\n",
    "4. Use Mottonen[] to generate the quantum data encoding circuits using qubit encoding"
   ]
  },
  {
   "cell_type": "markdown",
   "metadata": {},
   "source": [
    "### Standardize the data"
   ]
  },
  {
   "cell_type": "code",
   "execution_count": 2,
   "metadata": {},
   "outputs": [],
   "source": [
    "class IrisData:\n",
    "    def __init__(self):\n",
    "        return\n",
    "    \n",
    "    def _get_binary_dataset(self):\n",
    "        with open('./iris.csv') as csv_file:\n",
    "            reader = csv.reader(csv_file, delimiter=',')\n",
    "            rows = list(reader)\n",
    "            rows.pop()\n",
    "            data = [row for row in rows if row[4] != 'Iris-virginica']\n",
    "            for datum in data:\n",
    "                if datum[4] == 'Iris-setosa':\n",
    "                    datum[4] = 1.0\n",
    "                else:\n",
    "                    datum[4] = -1.0\n",
    "            data = np.array(data, dtype=np.float32)\n",
    "            labels = data[:,4]\n",
    "            data = data[:,:4]\n",
    "            data = data.reshape(100, 4, 1)\n",
    "            data = (data-np.min(data))/(np.max(data)-np.min(data))\n",
    "            data = np.concatenate((np.cos(np.pi*0.5*data), np.sin(np.pi*0.5*data)), axis=2)\n",
    "            return data, labels\n",
    "        \n",
    "    def get_binary_test_train_split(self):\n",
    "        data, labels = self._get_binary_dataset()\n",
    "        _data = []\n",
    "        # only reason for using GridQubit is because the serializer in\n",
    "        # cirq for converting it into a tensor only works for GridQubits\n",
    "        # in 'this' cirq release.\n",
    "        qubits = cirq.GridQubit.rect(1,4)\n",
    "        for idx in range(data.shape[0]):\n",
    "            datapoint = data[idx]\n",
    "            _circuit = cirq.Circuit()\n",
    "            for i in range(4):\n",
    "                _circuit.append(encode_classical_datapoint(np.array(datapoint[i][::-1]), [qubits[i]]))\n",
    "            _data.append(_circuit)\n",
    "        X_train, X_test, y_train, y_test = train_test_split(_data, labels, test_size=0.1, random_state=seed)\n",
    "        X_train, X_test = tfq.convert_to_tensor(X_train), tfq.convert_to_tensor(X_test)\n",
    "\n",
    "        return X_train, X_test, y_train, y_test"
   ]
  },
  {
   "cell_type": "code",
   "execution_count": 3,
   "metadata": {},
   "outputs": [
    {
     "name": "stdout",
     "output_type": "stream",
     "text": [
      "(90,) (10,) (90,) (10,)\n"
     ]
    }
   ],
   "source": [
    "iris_data = IrisData()\n",
    "X_train, X_test, y_train, y_test = iris_data.get_binary_test_train_split()\n",
    "print(X_train.shape, X_test.shape, y_train.shape, y_test.shape)"
   ]
  },
  {
   "cell_type": "markdown",
   "metadata": {},
   "source": [
    "## TTN Model"
   ]
  },
  {
   "cell_type": "markdown",
   "metadata": {},
   "source": [
    "### Model Definitions"
   ]
  },
  {
   "cell_type": "code",
   "execution_count": 16,
   "metadata": {},
   "outputs": [],
   "source": [
    "class TTNBinaryClassificationModel():\n",
    "    def __init__(self):\n",
    "        iris_data = IrisData()\n",
    "        self.iris_X_train, self.iris_X_test, self.iris_y_train, self.iris_y_test =  iris_data.get_binary_test_train_split()\n",
    "        return\n",
    "    \n",
    "    def _ttn_real_unitary(self, qubits, symbols):\n",
    "        circuit = cirq.Circuit()\n",
    "        circuit.append(cirq.ry(symbols[0])(qubits[0]))\n",
    "        circuit.append(cirq.ry(symbols[1])(qubits[1]))\n",
    "        circuit.append(cirq.CNOT(qubits[0], qubits[1]))\n",
    "        return circuit\n",
    "    \n",
    "    def _ttn_model_iris(self, qubits):\n",
    "        symbols, circuit = sympy.symbols('x0:6'), cirq.Circuit()\n",
    "        circuit.append(self._ttn_real_unitary(qubits[:2], symbols[:2]))\n",
    "        circuit.append(self._ttn_real_unitary(qubits[2:4], symbols[2:4]))\n",
    "        circuit.append(self._ttn_real_unitary(qubits[1:3], symbols[4:6]))\n",
    "        return circuit, symbols\n",
    "    \n",
    "    @tf.function\n",
    "    def _custom_accuracy(self, y_true, y_pred):\n",
    "        y_true = tf.squeeze(y_true)\n",
    "        y_pred = tf.map_fn(lambda x: 1.0 if x >= 0.0 else -1.0, y_pred)\n",
    "        return tf.keras.backend.mean(tf.keras.backend.equal(y_true, y_pred))\n",
    "    \n",
    "    def _iris_model_compile(self):\n",
    "        # declare qubits and readout operators\n",
    "        cluster_state_bits = cirq.GridQubit.rect(1, 4)\n",
    "        readout_operators = cirq.Z(cluster_state_bits[3])\n",
    "\n",
    "        iris_ttn_model, symbols = self._ttn_model_iris(cluster_state_bits)\n",
    "        iris_data_input = tf.keras.Input(shape=(), dtype=tf.dtypes.string)\n",
    "        iris_pqc = tfq.layers.PQC(iris_ttn_model, readout_operators, initializer=tf.keras.initializers.RandomUniform(-np.pi, np.pi))\n",
    "        iris_measurement_output = iris_pqc(iris_data_input)\n",
    "\n",
    "        iris_model = tf.keras.Model(inputs=iris_data_input, outputs=iris_measurement_output)\n",
    "        iris_model.compile(optimizer=tf.keras.optimizers.Adam(learning_rate=0.02), \n",
    "                           loss=tf.keras.losses.MSE, metrics=[self._custom_accuracy])\n",
    "        tf.keras.utils.plot_model(iris_model, show_shapes=True, dpi=70)\n",
    "        \n",
    "        self.iris_model = iris_model\n",
    "    \n",
    "    def iris_model_fit(self):\n",
    "        self._iris_model_compile()\n",
    "        history = self.iris_model.fit(x=X_train, y=y_train, epochs=100, verbose=0)\n",
    "        plt.plot(history.history['loss'])\n",
    "        plt.title(\"Binary Classification for IRIS data set\")\n",
    "        plt.xlabel(\"Iterations\")\n",
    "        plt.ylabel(\"Error in classification\")\n",
    "        plt.show()\n",
    "        print(\"Final loss value:\")\n",
    "        print(history.history[\"loss\"][-1])\n",
    "        \n",
    "    def iris_model_accuracy(self):\n",
    "        predicted = self.iris_model.predict(self.iris_X_test)\n",
    "        predicted[predicted >= 0] = 1.0\n",
    "        predicted[predicted < 0] = -1.0\n",
    "        iris_y_test = np.expand_dims(self.iris_y_test, axis=1)\n",
    "        print(predicted.shape, iris_y_test.shape)\n",
    "        return (1 - np.mean(np.abs(predicted-iris_y_test))) * 100"
   ]
  },
  {
   "cell_type": "code",
   "execution_count": 17,
   "metadata": {},
   "outputs": [],
   "source": [
    "ttn_binary_classification_model = TTNBinaryClassificationModel()"
   ]
  },
  {
   "cell_type": "code",
   "execution_count": 18,
   "metadata": {},
   "outputs": [
    {
     "data": {
      "image/svg+xml": [
       "<svg xmlns=\"http://www.w3.org/2000/svg\" width=\"242.3000390625\" height=\"100.0\"><line x1=\"34.7588671875\" x2=\"212.3000390625\" y1=\"25.0\" y2=\"25.0\" stroke=\"#1967d2\" stroke-width=\"1\" /><line x1=\"34.7588671875\" x2=\"212.3000390625\" y1=\"75.0\" y2=\"75.0\" stroke=\"#1967d2\" stroke-width=\"1\" /><line x1=\"172.3000390625\" x2=\"172.3000390625\" y1=\"25.0\" y2=\"75.0\" stroke=\"black\" stroke-width=\"3\" /><rect x=\"10.0\" y=\"5.0\" width=\"49.517734375\" height=\"40\" stroke=\"black\" fill=\"white\" stroke-width=\"0\" /><text x=\"34.7588671875\" y=\"25.0\" dominant-baseline=\"middle\" text-anchor=\"middle\" font-size=\"14px\">(0, 0): </text><rect x=\"10.0\" y=\"55.0\" width=\"49.517734375\" height=\"40\" stroke=\"black\" fill=\"white\" stroke-width=\"0\" /><text x=\"34.7588671875\" y=\"75.0\" dominant-baseline=\"middle\" text-anchor=\"middle\" font-size=\"14px\">(0, 1): </text><rect x=\"79.517734375\" y=\"5.0\" width=\"52.7823046875\" height=\"40\" stroke=\"black\" fill=\"white\" stroke-width=\"1\" /><text x=\"105.90888671875001\" y=\"25.0\" dominant-baseline=\"middle\" text-anchor=\"middle\" font-size=\"14px\">Ry(x0)</text><rect x=\"79.517734375\" y=\"55.0\" width=\"52.7823046875\" height=\"40\" stroke=\"black\" fill=\"white\" stroke-width=\"1\" /><text x=\"105.90888671875001\" y=\"75.0\" dominant-baseline=\"middle\" text-anchor=\"middle\" font-size=\"14px\">Ry(x1)</text><circle cx=\"172.3000390625\" cy=\"25.0\" r=\"10.0\" /><rect x=\"152.3000390625\" y=\"55.0\" width=\"40\" height=\"40\" stroke=\"black\" fill=\"white\" stroke-width=\"1\" /><text x=\"172.3000390625\" y=\"75.0\" dominant-baseline=\"middle\" text-anchor=\"middle\" font-size=\"18px\">X</text></svg>"
      ],
      "text/plain": [
       "<cirq.contrib.svg.svg.SVGCircuit at 0x7f48d4826ac8>"
      ]
     },
     "execution_count": 18,
     "metadata": {},
     "output_type": "execute_result"
    }
   ],
   "source": [
    "SVGCircuit(ttn_binary_classification_model._ttn_real_unitary(cirq.GridQubit.rect(1, 2), sympy.symbols('x0:2')))"
   ]
  },
  {
   "cell_type": "code",
   "execution_count": 19,
   "metadata": {},
   "outputs": [
    {
     "data": {
      "image/svg+xml": [
       "<svg xmlns=\"http://www.w3.org/2000/svg\" width=\"507.8646484375\" height=\"200.0\"><line x1=\"34.7588671875\" x2=\"477.8646484375\" y1=\"25.0\" y2=\"25.0\" stroke=\"#1967d2\" stroke-width=\"1\" /><line x1=\"34.7588671875\" x2=\"477.8646484375\" y1=\"75.0\" y2=\"75.0\" stroke=\"#1967d2\" stroke-width=\"1\" /><line x1=\"34.7588671875\" x2=\"477.8646484375\" y1=\"125.0\" y2=\"125.0\" stroke=\"#1967d2\" stroke-width=\"1\" /><line x1=\"34.7588671875\" x2=\"477.8646484375\" y1=\"175.0\" y2=\"175.0\" stroke=\"#1967d2\" stroke-width=\"1\" /><line x1=\"172.3000390625\" x2=\"172.3000390625\" y1=\"25.0\" y2=\"75.0\" stroke=\"black\" stroke-width=\"3\" /><line x1=\"305.08234375\" x2=\"305.08234375\" y1=\"125.0\" y2=\"175.0\" stroke=\"black\" stroke-width=\"3\" /><line x1=\"437.8646484375\" x2=\"437.8646484375\" y1=\"75.0\" y2=\"125.0\" stroke=\"black\" stroke-width=\"3\" /><rect x=\"10.0\" y=\"5.0\" width=\"49.517734375\" height=\"40\" stroke=\"black\" fill=\"white\" stroke-width=\"0\" /><text x=\"34.7588671875\" y=\"25.0\" dominant-baseline=\"middle\" text-anchor=\"middle\" font-size=\"14px\">(0, 0): </text><rect x=\"10.0\" y=\"55.0\" width=\"49.517734375\" height=\"40\" stroke=\"black\" fill=\"white\" stroke-width=\"0\" /><text x=\"34.7588671875\" y=\"75.0\" dominant-baseline=\"middle\" text-anchor=\"middle\" font-size=\"14px\">(0, 1): </text><rect x=\"10.0\" y=\"105.0\" width=\"49.517734375\" height=\"40\" stroke=\"black\" fill=\"white\" stroke-width=\"0\" /><text x=\"34.7588671875\" y=\"125.0\" dominant-baseline=\"middle\" text-anchor=\"middle\" font-size=\"14px\">(0, 2): </text><rect x=\"10.0\" y=\"155.0\" width=\"49.517734375\" height=\"40\" stroke=\"black\" fill=\"white\" stroke-width=\"0\" /><text x=\"34.7588671875\" y=\"175.0\" dominant-baseline=\"middle\" text-anchor=\"middle\" font-size=\"14px\">(0, 3): </text><rect x=\"79.517734375\" y=\"5.0\" width=\"52.7823046875\" height=\"40\" stroke=\"black\" fill=\"white\" stroke-width=\"1\" /><text x=\"105.90888671875001\" y=\"25.0\" dominant-baseline=\"middle\" text-anchor=\"middle\" font-size=\"14px\">Ry(x0)</text><rect x=\"79.517734375\" y=\"55.0\" width=\"52.7823046875\" height=\"40\" stroke=\"black\" fill=\"white\" stroke-width=\"1\" /><text x=\"105.90888671875001\" y=\"75.0\" dominant-baseline=\"middle\" text-anchor=\"middle\" font-size=\"14px\">Ry(x1)</text><circle cx=\"172.3000390625\" cy=\"25.0\" r=\"10.0\" /><rect x=\"152.3000390625\" y=\"55.0\" width=\"40\" height=\"40\" stroke=\"black\" fill=\"white\" stroke-width=\"1\" /><text x=\"172.3000390625\" y=\"75.0\" dominant-baseline=\"middle\" text-anchor=\"middle\" font-size=\"18px\">X</text><rect x=\"212.3000390625\" y=\"105.0\" width=\"52.7823046875\" height=\"40\" stroke=\"black\" fill=\"white\" stroke-width=\"1\" /><text x=\"238.69119140625\" y=\"125.0\" dominant-baseline=\"middle\" text-anchor=\"middle\" font-size=\"14px\">Ry(x2)</text><rect x=\"212.3000390625\" y=\"155.0\" width=\"52.7823046875\" height=\"40\" stroke=\"black\" fill=\"white\" stroke-width=\"1\" /><text x=\"238.69119140625\" y=\"175.0\" dominant-baseline=\"middle\" text-anchor=\"middle\" font-size=\"14px\">Ry(x3)</text><circle cx=\"305.08234375\" cy=\"125.0\" r=\"10.0\" /><rect x=\"285.08234375\" y=\"155.0\" width=\"40\" height=\"40\" stroke=\"black\" fill=\"white\" stroke-width=\"1\" /><text x=\"305.08234375\" y=\"175.0\" dominant-baseline=\"middle\" text-anchor=\"middle\" font-size=\"18px\">X</text><rect x=\"345.08234375\" y=\"55.0\" width=\"52.7823046875\" height=\"40\" stroke=\"black\" fill=\"white\" stroke-width=\"1\" /><text x=\"371.47349609375\" y=\"75.0\" dominant-baseline=\"middle\" text-anchor=\"middle\" font-size=\"14px\">Ry(x4)</text><rect x=\"345.08234375\" y=\"105.0\" width=\"52.7823046875\" height=\"40\" stroke=\"black\" fill=\"white\" stroke-width=\"1\" /><text x=\"371.47349609375\" y=\"125.0\" dominant-baseline=\"middle\" text-anchor=\"middle\" font-size=\"14px\">Ry(x5)</text><circle cx=\"437.8646484375\" cy=\"75.0\" r=\"10.0\" /><rect x=\"417.8646484375\" y=\"105.0\" width=\"40\" height=\"40\" stroke=\"black\" fill=\"white\" stroke-width=\"1\" /><text x=\"437.8646484375\" y=\"125.0\" dominant-baseline=\"middle\" text-anchor=\"middle\" font-size=\"18px\">X</text></svg>"
      ],
      "text/plain": [
       "<cirq.contrib.svg.svg.SVGCircuit at 0x7f48d4ab3da0>"
      ]
     },
     "execution_count": 19,
     "metadata": {},
     "output_type": "execute_result"
    }
   ],
   "source": [
    "SVGCircuit(ttn_binary_classification_model._ttn_model_iris(cirq.GridQubit.rect(1,4))[0])"
   ]
  },
  {
   "cell_type": "markdown",
   "metadata": {},
   "source": [
    "### Training"
   ]
  },
  {
   "cell_type": "code",
   "execution_count": 20,
   "metadata": {},
   "outputs": [
    {
     "data": {
      "image/png": "[encoded data removed]",
      "text/plain": [
       "<Figure size 432x288 with 1 Axes>"
      ]
     },
     "metadata": {
      "needs_background": "light"
     },
     "output_type": "display_data"
    },
    {
     "name": "stdout",
     "output_type": "stream",
     "text": [
      "Final loss value:\n",
      "0.2038562516371409\n"
     ]
    }
   ],
   "source": [
    "ttn_binary_classification_model.iris_model_fit()"
   ]
  },
  {
   "cell_type": "code",
   "execution_count": 21,
   "metadata": {},
   "outputs": [
    {
     "name": "stdout",
     "output_type": "stream",
     "text": [
      "(10, 1) (10, 1)\n"
     ]
    },
    {
     "data": {
      "text/plain": [
       "100.0"
      ]
     },
     "execution_count": 21,
     "metadata": {},
     "output_type": "execute_result"
    }
   ],
   "source": [
    "ttn_binary_classification_model.iris_model_accuracy()"
   ]
  },
  {
   "cell_type": "code",
   "execution_count": null,
   "metadata": {},
   "outputs": [],
   "source": []
  }
 ],
 "metadata": {
  "kernelspec": {
   "display_name": "Python 3",
   "language": "python",
   "name": "python3"
  },
  "language_info": {
   "codemirror_mode": {
    "name": "ipython",
    "version": 3
   },
   "file_extension": ".py",
   "mimetype": "text/x-python",
   "name": "python",
   "nbconvert_exporter": "python",
   "pygments_lexer": "ipython3",
   "version": "3.6.9"
  }
 },
 "nbformat": 4,
 "nbformat_minor": 4
}
