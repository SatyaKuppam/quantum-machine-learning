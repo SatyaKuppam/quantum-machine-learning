{
 "cells": [
  {
   "cell_type": "markdown",
   "metadata": {},
   "source": [
    "## Heirarchical Quantum Classifiers [Grant et al.]"
   ]
  },
  {
   "cell_type": "markdown",
   "metadata": {},
   "source": [
    "Heirarchical Quantum Classifiers[1] presents two different ansatz inspired by tensor networks. Namely, Multi-scale entaglement renormalization ansatz (MERA) and Tree Tensor Network (TTN). Grant et al. train the Parameterize Quantum Circuits (PQCs) from these ansatz for binary classification tasks based on the IRIS and MNIST datasets."
   ]
  },
  {
   "cell_type": "markdown",
   "metadata": {},
   "source": [
    "We demonstrate the work present in [1], by classifying the first two classes in IRIS and 0/1 digits from MNIST using MERA and TTN and compare their performance. We also chose to use only $ry$ rotations in the ansatz. All the other details will be the same as [1]."
   ]
  },
  {
   "cell_type": "code",
   "execution_count": 7,
   "metadata": {},
   "outputs": [],
   "source": [
    "import tensorflow as tf\n",
    "import tensorflow_quantum as tfq\n",
    "\n",
    "import cirq\n",
    "import sympy\n",
    "import numpy as np\n",
    "import os, csv\n",
    "\n",
    "# visualization tools\n",
    "%matplotlib inline\n",
    "import matplotlib.pyplot as plt\n",
    "from cirq.contrib.svg import SVGCircuit\n",
    "from sklearn.model_selection import train_test_split\n",
    "from sklearn.datasets import fetch_openml\n",
    "from sklearn.preprocessing import StandardScaler\n",
    "from sklearn.decomposition import PCA\n",
    "\n",
    "# TODO: mottonen will be changed to its subpackage and the relative path will change\n",
    "from mottonen import encode_classical_datapoint\n",
    "\n",
    "seed = 42\n",
    "np.random.seed(seed)"
   ]
  },
  {
   "cell_type": "code",
   "execution_count": 2,
   "metadata": {},
   "outputs": [
    {
     "name": "stdout",
     "output_type": "stream",
     "text": [
      "  % Total    % Received % Xferd  Average Speed   Time    Time     Time  Current\n",
      "                                 Dload  Upload   Total   Spent    Left  Speed\n",
      "100  4551  100  4551    0     0  17639      0 --:--:-- --:--:-- --:--:-- 17639\n"
     ]
    }
   ],
   "source": [
    "!export IRIS_URL=\"https://archive.ics.uci.edu/ml/machine-learning-databases/iris/iris.data\" && curl $IRIS_URL > iris.csv"
   ]
  },
  {
   "cell_type": "markdown",
   "metadata": {},
   "source": [
    "## Data Encoding\n",
    "\n",
    "### IRIS data set encoding\n",
    "We standardize the data and make this a binary classification problem.\n",
    "\n",
    "1. First we will fetch the IRIS dataset\n",
    "2. Only select the datagrams with labels 1 or 2, and set the label as 1 and -1 respectively.\n",
    "3. Renormalize the data so that each dimension is only $[0, \\frac{\\pi}{2}]$\n",
    "4. Use Mottonen[4] to generate the quantum data encoding circuits using `qubit` encoding, our Mottonen[4] implementation is exactly similar to PyQuil, but adopted for Cirq."
   ]
  },
  {
   "cell_type": "markdown",
   "metadata": {},
   "source": [
    "### Standardize the data"
   ]
  },
  {
   "cell_type": "code",
   "execution_count": 2,
   "metadata": {},
   "outputs": [],
   "source": [
    "class IrisData:\n",
    "    def __init__(self):\n",
    "        return\n",
    "    \n",
    "    def _get_binary_dataset(self):\n",
    "        with open('./iris.csv') as csv_file:\n",
    "            reader = csv.reader(csv_file, delimiter=',')\n",
    "            rows = list(reader)\n",
    "            rows.pop()\n",
    "            data = [row for row in rows if row[4] != 'Iris-virginica']\n",
    "            for datum in data:\n",
    "                if datum[4] == 'Iris-setosa':\n",
    "                    datum[4] = 1.0\n",
    "                else:\n",
    "                    datum[4] = -1.0\n",
    "            data = np.array(data, dtype=np.float32)\n",
    "            labels = data[:,4]\n",
    "            data = data[:,:4]\n",
    "            data = data.reshape(100, 4, 1)\n",
    "            data = (data-np.min(data))/(np.max(data)-np.min(data))\n",
    "            data = np.concatenate((np.cos(np.pi*0.5*data), np.sin(np.pi*0.5*data)), axis=2)\n",
    "            return data, labels\n",
    "        \n",
    "    def get_binary_test_train_split(self):\n",
    "        data, labels = self._get_binary_dataset()\n",
    "        _data = []\n",
    "        # only reason for using GridQubit is because the serializer in\n",
    "        # cirq for converting it into a tensor only works for GridQubits\n",
    "        # in 'this' cirq release.\n",
    "        qubits = cirq.GridQubit.rect(1,4)\n",
    "        for idx in range(data.shape[0]):\n",
    "            datapoint = data[idx]\n",
    "            _circuit = cirq.Circuit()\n",
    "            for i in range(4):\n",
    "                _circuit.append(encode_classical_datapoint(np.array(datapoint[i][::-1]), [qubits[i]]))\n",
    "            _data.append(_circuit)\n",
    "        X_train, X_test, y_train, y_test = train_test_split(_data, labels, test_size=0.1, random_state=seed)\n",
    "        X_train, X_test = tfq.convert_to_tensor(X_train), tfq.convert_to_tensor(X_test)\n",
    "\n",
    "        return X_train, X_test, y_train, y_test"
   ]
  },
  {
   "cell_type": "code",
   "execution_count": 3,
   "metadata": {},
   "outputs": [
    {
     "name": "stdout",
     "output_type": "stream",
     "text": [
      "(90,) (10,) (90,) (10,)\n"
     ]
    }
   ],
   "source": [
    "iris_data = IrisData()\n",
    "X_train, X_test, y_train, y_test = iris_data.get_binary_test_train_split()\n",
    "print(X_train.shape, X_test.shape, y_train.shape, y_test.shape)"
   ]
  },
  {
   "cell_type": "markdown",
   "metadata": {},
   "source": [
    "### MNIST data with the first 8 principal components"
   ]
  },
  {
   "cell_type": "markdown",
   "metadata": {},
   "source": [
    "We standardize the MNIST data set and make this a binary classification problem:\n",
    "\n",
    "1. Fetch the MNIST dataset and pick datagrams corresponding to digits 0 and 1.\n",
    "2. Change the 0 and 1 classes to 1 and -1 respectively.\n",
    "3. Standardize the data and pick the top eight eigenvectors corresponding to their eigenvalue.\n",
    "4. Renormalize each dimension of the dataset to be in $[0, \\frac{\\pi}{2}]$\n",
    "5. Use Mottonen[4] to get the cirq circuits for each datapoint, in `qubit` encoding."
   ]
  },
  {
   "cell_type": "code",
   "execution_count": 65,
   "metadata": {},
   "outputs": [],
   "source": [
    "class MNISTData:\n",
    "    def __init__(self):\n",
    "        mnist = fetch_openml('mnist_784', version=1, cache=True)\n",
    "        self.data = mnist['data']\n",
    "        self.labels = np.array(mnist['target'], dtype=np.int8)\n",
    "        \n",
    "    def _get_binary_data_encoding(self):\n",
    "        labels_zero = self.labels[self.labels==0] + 1\n",
    "        labels_one = self.labels[self.labels==1] - 2\n",
    "        binary_labels = np.hstack((labels_zero, labels_one))\n",
    "        digits_zero = self.data[self.labels==0]\n",
    "        digits_one = self.data[self.labels==1]\n",
    "        binary_digits = np.vstack((digits_zero, digits_one))\n",
    "        \n",
    "        pca = PCA(n_components=8)\n",
    "        sc = StandardScaler()\n",
    "        binary_digits = sc.fit_transform(binary_digits)\n",
    "        data = pca.fit_transform(binary_digits)\n",
    "        data = np.expand_dims(data, axis=2)\n",
    "        data = (data-np.min(data))/(np.max(data)-np.min(data))\n",
    "        data = np.concatenate((np.cos(np.pi*0.5*data), np.sin(np.pi*0.5*data)), axis=2)\n",
    "        \n",
    "        qubits = cirq.GridQubit.rect(1,8)\n",
    "        _data = []\n",
    "        for idx in range(data.shape[0]):\n",
    "            datapoint = data[idx]\n",
    "            _circuit = cirq.Circuit()\n",
    "            for i in range(8):\n",
    "                _circuit.append(encode_classical_datapoint(np.array(datapoint[i][::-1]), [qubits[i]]))\n",
    "            _data.append(_circuit)\n",
    "        return _data, binary_labels\n",
    "        \n",
    "    def get_binary_test_train_split(self):\n",
    "        data, labels = self._get_binary_data_encoding()\n",
    "        X_train, X_test, y_train, y_test = train_test_split(data, labels, test_size=0.1, random_state=seed)\n",
    "        return tfq.convert_to_tensor(X_train), tfq.convert_to_tensor(X_test), y_train, y_test"
   ]
  },
  {
   "cell_type": "code",
   "execution_count": 15,
   "metadata": {},
   "outputs": [],
   "source": [
    "mnist_data = MNISTData()"
   ]
  },
  {
   "cell_type": "code",
   "execution_count": 16,
   "metadata": {},
   "outputs": [
    {
     "name": "stdout",
     "output_type": "stream",
     "text": [
      "(14780, 784)\n",
      "(13302,) (1478,) (13302,) (1478,)\n"
     ]
    }
   ],
   "source": [
    "X_train, X_test, y_train, y_test = mnist_data.get_binary_test_train_split()\n",
    "print(X_train.shape, X_test.shape, y_train.shape, y_test.shape)"
   ]
  },
  {
   "cell_type": "markdown",
   "metadata": {},
   "source": [
    "## TTN Model"
   ]
  },
  {
   "cell_type": "markdown",
   "metadata": {},
   "source": [
    "### Model Definitions"
   ]
  },
  {
   "cell_type": "code",
   "execution_count": 109,
   "metadata": {},
   "outputs": [],
   "source": [
    "class TTNBinaryClassificationModel():\n",
    "    def __init__(self):\n",
    "        iris_data = IrisData()\n",
    "        mnist_data = MNISTData()\n",
    "        self.iris_X_train, self.iris_X_test, self.iris_y_train, self.iris_y_test =  iris_data.get_binary_test_train_split()\n",
    "        self.mnist_X_train, self.mnist_X_test, self.mnist_y_train, self.mnist_y_test = mnist_data.get_binary_test_train_split()\n",
    "        #self.mnist_X_train = self.mnist_X_train[:100]\n",
    "        #self.mnist_y_train = self.mnist_y_train[:100]\n",
    "        return\n",
    "    \n",
    "    def _ttn_real_unitary(self, qubits, symbols, reverse=False):\n",
    "        circuit = cirq.Circuit()\n",
    "        circuit.append(cirq.ry(symbols[0])(qubits[0]))\n",
    "        circuit.append(cirq.ry(symbols[1])(qubits[1]))\n",
    "        if reverse:\n",
    "            circuit.append(cirq.CNOT(qubits[1], qubits[0]))\n",
    "        else:\n",
    "            circuit.append(cirq.CNOT(qubits[0], qubits[1]))\n",
    "        return circuit\n",
    "    \n",
    "    def _ttn_model_iris(self, qubits):\n",
    "        symbols, circuit = sympy.symbols('x0:6'), cirq.Circuit()\n",
    "        circuit.append(self._ttn_real_unitary(qubits[:2], symbols[:2]))\n",
    "        circuit.append(self._ttn_real_unitary(qubits[2:4], symbols[2:4]))\n",
    "        circuit.append(self._ttn_real_unitary(qubits[1:3], symbols[4:6]))\n",
    "        return circuit, symbols\n",
    "    \n",
    "    def _ttn_real_model_mnist(self, qubits):\n",
    "        symbols, circuit = sympy.symbols('x0:14'), cirq.Circuit()\n",
    "        circuit.append(self._ttn_real_unitary(qubits[:2], symbols[:2]))   #U1\n",
    "        circuit.append(self._ttn_real_unitary(qubits[2:4], symbols[2:4], reverse=True)) #U2\n",
    "        circuit.append(self._ttn_real_unitary(qubits[4:6], symbols[4:6])) #U3\n",
    "        circuit.append(self._ttn_real_unitary(qubits[6:8], symbols[6:8], reverse=True)) #U4\n",
    "        \n",
    "        circuit.append(self._ttn_real_unitary(qubits[1:4], symbols[8:10])) #U5\n",
    "        circuit.append(self._ttn_real_unitary(qubits[5:7], symbols[10:12], reverse=True))#U6\n",
    "        \n",
    "        circuit.append(self._ttn_real_unitary([qubits[2], qubits[5]], symbols[12:14]))#U7\n",
    "        return circuit, symbols\n",
    "    \n",
    "    @tf.function\n",
    "    def _custom_accuracy(self, y_true, y_pred):\n",
    "        y_true = tf.squeeze(y_true)\n",
    "        y_pred = tf.map_fn(lambda x: 1.0 if x >= 0.0 else -1.0, y_pred)\n",
    "        return tf.keras.backend.mean(tf.keras.backend.equal(y_true, y_pred))\n",
    "    \n",
    "    def _iris_model_compile(self):\n",
    "        # declare qubits and readout operators\n",
    "        cluster_state_bits = cirq.GridQubit.rect(1, 4)\n",
    "        readout_operators = cirq.Z(cluster_state_bits[3])\n",
    "\n",
    "        iris_ttn_model, symbols = self._ttn_model_iris(cluster_state_bits)\n",
    "        iris_data_input = tf.keras.Input(shape=(), dtype=tf.dtypes.string)\n",
    "        iris_pqc = tfq.layers.PQC(iris_ttn_model, readout_operators, initializer=tf.keras.initializers.RandomUniform(-np.pi, np.pi))\n",
    "        iris_measurement_output = iris_pqc(iris_data_input)\n",
    "\n",
    "        iris_model = tf.keras.Model(inputs=iris_data_input, outputs=iris_measurement_output)\n",
    "        iris_model.compile(optimizer=tf.keras.optimizers.Adam(learning_rate=0.02), \n",
    "                           loss=tf.keras.losses.MSE, metrics=[self._custom_accuracy])\n",
    "        tf.keras.utils.plot_model(iris_model, show_shapes=True, dpi=70)\n",
    "        \n",
    "        self.iris_model = iris_model\n",
    "    \n",
    "    def _mnist_model_compile(self, learning_rate=0.1):\n",
    "        cluster_state_bits = cirq.GridQubit.rect(1,8)\n",
    "        readout_operators = cirq.Z(cluster_state_bits[5])\n",
    "        \n",
    "        mnist_ttn_model, symbols = self._ttn_real_model_mnist(cluster_state_bits)\n",
    "        mnist_data_input = tf.keras.Input(shape=(), dtype=tf.dtypes.string)\n",
    "        mnist_pqc = tfq.layers.PQC(mnist_ttn_model, readout_operators, initializer=tf.keras.initializers.RandomUniform(-2*np.pi, 2*np.pi))\n",
    "        mnist_measurement_output = mnist_pqc(mnist_data_input)\n",
    "        \n",
    "        mnist_model = tf.keras.Model(inputs=mnist_data_input, outputs=mnist_measurement_output)\n",
    "        mnist_model.compile(optimizer=tf.keras.optimizers.Adam(learning_rate=learning_rate), loss=tf.keras.losses.MSE, metrics=[self._custom_accuracy])\n",
    "        tf.keras.utils.plot_model(mnist_model, show_shapes=True, dpi=70)\n",
    "        \n",
    "        self.mnist_model = mnist_model\n",
    "    \n",
    "    def iris_model_fit(self):\n",
    "        self._iris_model_compile()\n",
    "        history = self.iris_model.fit(x=self.iris_X_train, y=self.iris_y_train, epochs=100, verbose=0)\n",
    "        plt.plot(history.history['loss'])\n",
    "        plt.title(\"Binary Classification for IRIS data set\")\n",
    "        plt.xlabel(\"Iterations\")\n",
    "        plt.ylabel(\"Error in classification\")\n",
    "        plt.show()\n",
    "        print(\"Final loss value:\")\n",
    "        print(history.history[\"loss\"][-1])\n",
    "    \n",
    "    def mnist_model_fit(self, epochs=10, learning_rate=0.1, batch_size=500):\n",
    "        self._mnist_model_compile(learning_rate=learning_rate)\n",
    "        history = self.mnist_model.fit(x=self.mnist_X_train, y=self.mnist_y_train, epochs=epochs, batch_size=batch_size, verbose=1)\n",
    "        plt.plot(history.history['loss'])\n",
    "        plt.title(\"Binary Classification for MNIST data set on 0,1 digits\")\n",
    "        plt.xlabel(\"Iterations\")\n",
    "        plt.ylabel(\"Error in classification\")\n",
    "        plt.show()\n",
    "        print(\"Final loss value:\")\n",
    "        print(history.history[\"loss\"][-1])\n",
    "        \n",
    "    def iris_model_accuracy(self):\n",
    "        predicted = self.iris_model.predict(self.iris_X_test)\n",
    "        predicted[predicted >= 0] = 1.0\n",
    "        predicted[predicted < 0] = -1.0\n",
    "        iris_y_test = np.expand_dims(self.iris_y_test, axis=1)\n",
    "        return (1 - np.mean(np.abs(predicted-iris_y_test))) * 100\n",
    "    \n",
    "    def mnist_model_accuracy(self):\n",
    "        predicted = self.mnist_model.predict(self.mnist_X_test)\n",
    "        predicted[predicted >= 0] = 1.0\n",
    "        predicted[predicted < 0] = -1.0\n",
    "        mnist_y_test = np.expand_dims(self.mnist_y_test, axis=1)\n",
    "        return (1-np.mean(np.abs(predicted-mnist_y_test))) * 100"
   ]
  },
  {
   "cell_type": "code",
   "execution_count": 102,
   "metadata": {},
   "outputs": [],
   "source": [
    "ttn_binary_classification_model = TTNBinaryClassificationModel()"
   ]
  },
  {
   "cell_type": "code",
   "execution_count": 71,
   "metadata": {},
   "outputs": [
    {
     "data": {
      "image/svg+xml": [
       "<svg xmlns=\"http://www.w3.org/2000/svg\" width=\"242.3000390625\" height=\"100.0\"><line x1=\"34.7588671875\" x2=\"212.3000390625\" y1=\"25.0\" y2=\"25.0\" stroke=\"#1967d2\" stroke-width=\"1\" /><line x1=\"34.7588671875\" x2=\"212.3000390625\" y1=\"75.0\" y2=\"75.0\" stroke=\"#1967d2\" stroke-width=\"1\" /><line x1=\"172.3000390625\" x2=\"172.3000390625\" y1=\"25.0\" y2=\"75.0\" stroke=\"black\" stroke-width=\"3\" /><rect x=\"10.0\" y=\"5.0\" width=\"49.517734375\" height=\"40\" stroke=\"black\" fill=\"white\" stroke-width=\"0\" /><text x=\"34.7588671875\" y=\"25.0\" dominant-baseline=\"middle\" text-anchor=\"middle\" font-size=\"14px\">(0, 0): </text><rect x=\"10.0\" y=\"55.0\" width=\"49.517734375\" height=\"40\" stroke=\"black\" fill=\"white\" stroke-width=\"0\" /><text x=\"34.7588671875\" y=\"75.0\" dominant-baseline=\"middle\" text-anchor=\"middle\" font-size=\"14px\">(0, 1): </text><rect x=\"79.517734375\" y=\"5.0\" width=\"52.7823046875\" height=\"40\" stroke=\"black\" fill=\"white\" stroke-width=\"1\" /><text x=\"105.90888671875001\" y=\"25.0\" dominant-baseline=\"middle\" text-anchor=\"middle\" font-size=\"14px\">Ry(x0)</text><rect x=\"79.517734375\" y=\"55.0\" width=\"52.7823046875\" height=\"40\" stroke=\"black\" fill=\"white\" stroke-width=\"1\" /><text x=\"105.90888671875001\" y=\"75.0\" dominant-baseline=\"middle\" text-anchor=\"middle\" font-size=\"14px\">Ry(x1)</text><circle cx=\"172.3000390625\" cy=\"25.0\" r=\"10.0\" /><rect x=\"152.3000390625\" y=\"55.0\" width=\"40\" height=\"40\" stroke=\"black\" fill=\"white\" stroke-width=\"1\" /><text x=\"172.3000390625\" y=\"75.0\" dominant-baseline=\"middle\" text-anchor=\"middle\" font-size=\"18px\">X</text></svg>"
      ],
      "text/plain": [
       "<cirq.contrib.svg.svg.SVGCircuit at 0x7ffa7b88c9b0>"
      ]
     },
     "execution_count": 71,
     "metadata": {},
     "output_type": "execute_result"
    }
   ],
   "source": [
    "SVGCircuit(ttn_binary_classification_model._ttn_real_unitary(cirq.GridQubit.rect(1, 2), sympy.symbols('x0:2')))"
   ]
  },
  {
   "cell_type": "code",
   "execution_count": 60,
   "metadata": {},
   "outputs": [
    {
     "data": {
      "image/svg+xml": [
       "<svg xmlns=\"http://www.w3.org/2000/svg\" width=\"507.8646484375\" height=\"200.0\"><line x1=\"34.7588671875\" x2=\"477.8646484375\" y1=\"25.0\" y2=\"25.0\" stroke=\"#1967d2\" stroke-width=\"1\" /><line x1=\"34.7588671875\" x2=\"477.8646484375\" y1=\"75.0\" y2=\"75.0\" stroke=\"#1967d2\" stroke-width=\"1\" /><line x1=\"34.7588671875\" x2=\"477.8646484375\" y1=\"125.0\" y2=\"125.0\" stroke=\"#1967d2\" stroke-width=\"1\" /><line x1=\"34.7588671875\" x2=\"477.8646484375\" y1=\"175.0\" y2=\"175.0\" stroke=\"#1967d2\" stroke-width=\"1\" /><line x1=\"172.3000390625\" x2=\"172.3000390625\" y1=\"25.0\" y2=\"75.0\" stroke=\"black\" stroke-width=\"3\" /><line x1=\"305.08234375\" x2=\"305.08234375\" y1=\"125.0\" y2=\"175.0\" stroke=\"black\" stroke-width=\"3\" /><line x1=\"437.8646484375\" x2=\"437.8646484375\" y1=\"75.0\" y2=\"125.0\" stroke=\"black\" stroke-width=\"3\" /><rect x=\"10.0\" y=\"5.0\" width=\"49.517734375\" height=\"40\" stroke=\"black\" fill=\"white\" stroke-width=\"0\" /><text x=\"34.7588671875\" y=\"25.0\" dominant-baseline=\"middle\" text-anchor=\"middle\" font-size=\"14px\">(0, 0): </text><rect x=\"10.0\" y=\"55.0\" width=\"49.517734375\" height=\"40\" stroke=\"black\" fill=\"white\" stroke-width=\"0\" /><text x=\"34.7588671875\" y=\"75.0\" dominant-baseline=\"middle\" text-anchor=\"middle\" font-size=\"14px\">(0, 1): </text><rect x=\"10.0\" y=\"105.0\" width=\"49.517734375\" height=\"40\" stroke=\"black\" fill=\"white\" stroke-width=\"0\" /><text x=\"34.7588671875\" y=\"125.0\" dominant-baseline=\"middle\" text-anchor=\"middle\" font-size=\"14px\">(0, 2): </text><rect x=\"10.0\" y=\"155.0\" width=\"49.517734375\" height=\"40\" stroke=\"black\" fill=\"white\" stroke-width=\"0\" /><text x=\"34.7588671875\" y=\"175.0\" dominant-baseline=\"middle\" text-anchor=\"middle\" font-size=\"14px\">(0, 3): </text><rect x=\"79.517734375\" y=\"5.0\" width=\"52.7823046875\" height=\"40\" stroke=\"black\" fill=\"white\" stroke-width=\"1\" /><text x=\"105.90888671875001\" y=\"25.0\" dominant-baseline=\"middle\" text-anchor=\"middle\" font-size=\"14px\">Ry(x0)</text><rect x=\"79.517734375\" y=\"55.0\" width=\"52.7823046875\" height=\"40\" stroke=\"black\" fill=\"white\" stroke-width=\"1\" /><text x=\"105.90888671875001\" y=\"75.0\" dominant-baseline=\"middle\" text-anchor=\"middle\" font-size=\"14px\">Ry(x1)</text><circle cx=\"172.3000390625\" cy=\"25.0\" r=\"10.0\" /><rect x=\"152.3000390625\" y=\"55.0\" width=\"40\" height=\"40\" stroke=\"black\" fill=\"white\" stroke-width=\"1\" /><text x=\"172.3000390625\" y=\"75.0\" dominant-baseline=\"middle\" text-anchor=\"middle\" font-size=\"18px\">X</text><rect x=\"212.3000390625\" y=\"105.0\" width=\"52.7823046875\" height=\"40\" stroke=\"black\" fill=\"white\" stroke-width=\"1\" /><text x=\"238.69119140625\" y=\"125.0\" dominant-baseline=\"middle\" text-anchor=\"middle\" font-size=\"14px\">Ry(x2)</text><rect x=\"212.3000390625\" y=\"155.0\" width=\"52.7823046875\" height=\"40\" stroke=\"black\" fill=\"white\" stroke-width=\"1\" /><text x=\"238.69119140625\" y=\"175.0\" dominant-baseline=\"middle\" text-anchor=\"middle\" font-size=\"14px\">Ry(x3)</text><circle cx=\"305.08234375\" cy=\"125.0\" r=\"10.0\" /><rect x=\"285.08234375\" y=\"155.0\" width=\"40\" height=\"40\" stroke=\"black\" fill=\"white\" stroke-width=\"1\" /><text x=\"305.08234375\" y=\"175.0\" dominant-baseline=\"middle\" text-anchor=\"middle\" font-size=\"18px\">X</text><rect x=\"345.08234375\" y=\"55.0\" width=\"52.7823046875\" height=\"40\" stroke=\"black\" fill=\"white\" stroke-width=\"1\" /><text x=\"371.47349609375\" y=\"75.0\" dominant-baseline=\"middle\" text-anchor=\"middle\" font-size=\"14px\">Ry(x4)</text><rect x=\"345.08234375\" y=\"105.0\" width=\"52.7823046875\" height=\"40\" stroke=\"black\" fill=\"white\" stroke-width=\"1\" /><text x=\"371.47349609375\" y=\"125.0\" dominant-baseline=\"middle\" text-anchor=\"middle\" font-size=\"14px\">Ry(x5)</text><circle cx=\"437.8646484375\" cy=\"75.0\" r=\"10.0\" /><rect x=\"417.8646484375\" y=\"105.0\" width=\"40\" height=\"40\" stroke=\"black\" fill=\"white\" stroke-width=\"1\" /><text x=\"437.8646484375\" y=\"125.0\" dominant-baseline=\"middle\" text-anchor=\"middle\" font-size=\"18px\">X</text></svg>"
      ],
      "text/plain": [
       "<cirq.contrib.svg.svg.SVGCircuit at 0x7ffa7aecd1d0>"
      ]
     },
     "execution_count": 60,
     "metadata": {},
     "output_type": "execute_result"
    }
   ],
   "source": [
    "SVGCircuit(ttn_binary_classification_model._ttn_model_iris(cirq.GridQubit.rect(1,4))[0])"
   ]
  },
  {
   "cell_type": "markdown",
   "metadata": {},
   "source": [
    "### Training"
   ]
  },
  {
   "cell_type": "code",
   "execution_count": 23,
   "metadata": {},
   "outputs": [
    {
     "data": {
      "image/png": "[encoded data removed]",
      "text/plain": [
       "<Figure size 432x288 with 1 Axes>"
      ]
     },
     "metadata": {
      "needs_background": "light"
     },
     "output_type": "display_data"
    },
    {
     "name": "stdout",
     "output_type": "stream",
     "text": [
      "Final loss value:\n",
      "0.20392305188708834\n"
     ]
    }
   ],
   "source": [
    "ttn_binary_classification_model.iris_model_fit()"
   ]
  },
  {
   "cell_type": "code",
   "execution_count": 24,
   "metadata": {},
   "outputs": [
    {
     "name": "stdout",
     "output_type": "stream",
     "text": [
      "(10, 1) (10, 1)\n"
     ]
    },
    {
     "data": {
      "text/plain": [
       "100.0"
      ]
     },
     "execution_count": 24,
     "metadata": {},
     "output_type": "execute_result"
    }
   ],
   "source": [
    "ttn_binary_classification_model.iris_model_accuracy()"
   ]
  },
  {
   "cell_type": "markdown",
   "metadata": {},
   "source": [
    "### TTN MNIST Dataset"
   ]
  },
  {
   "cell_type": "code",
   "execution_count": 103,
   "metadata": {},
   "outputs": [
    {
     "data": {
      "image/svg+xml": [
       "<svg xmlns=\"http://www.w3.org/2000/svg\" width=\"1056.8083203124997\" height=\"400.0\"><line x1=\"34.7588671875\" x2=\"1026.8083203124997\" y1=\"25.0\" y2=\"25.0\" stroke=\"#1967d2\" stroke-width=\"1\" /><line x1=\"34.7588671875\" x2=\"1026.8083203124997\" y1=\"75.0\" y2=\"75.0\" stroke=\"#1967d2\" stroke-width=\"1\" /><line x1=\"34.7588671875\" x2=\"1026.8083203124997\" y1=\"125.0\" y2=\"125.0\" stroke=\"#1967d2\" stroke-width=\"1\" /><line x1=\"34.7588671875\" x2=\"1026.8083203124997\" y1=\"175.0\" y2=\"175.0\" stroke=\"#1967d2\" stroke-width=\"1\" /><line x1=\"34.7588671875\" x2=\"1026.8083203124997\" y1=\"225.0\" y2=\"225.0\" stroke=\"#1967d2\" stroke-width=\"1\" /><line x1=\"34.7588671875\" x2=\"1026.8083203124997\" y1=\"275.0\" y2=\"275.0\" stroke=\"#1967d2\" stroke-width=\"1\" /><line x1=\"34.7588671875\" x2=\"1026.8083203124997\" y1=\"325.0\" y2=\"325.0\" stroke=\"#1967d2\" stroke-width=\"1\" /><line x1=\"34.7588671875\" x2=\"1026.8083203124997\" y1=\"375.0\" y2=\"375.0\" stroke=\"#1967d2\" stroke-width=\"1\" /><line x1=\"172.3000390625\" x2=\"172.3000390625\" y1=\"25.0\" y2=\"75.0\" stroke=\"black\" stroke-width=\"3\" /><line x1=\"305.08234375\" x2=\"305.08234375\" y1=\"125.0\" y2=\"175.0\" stroke=\"black\" stroke-width=\"3\" /><line x1=\"437.8646484375\" x2=\"437.8646484375\" y1=\"225.0\" y2=\"275.0\" stroke=\"black\" stroke-width=\"3\" /><line x1=\"570.646953125\" x2=\"570.646953125\" y1=\"325.0\" y2=\"375.0\" stroke=\"black\" stroke-width=\"3\" /><line x1=\"703.4292578124999\" x2=\"703.4292578124999\" y1=\"75.0\" y2=\"125.0\" stroke=\"black\" stroke-width=\"3\" /><line x1=\"845.1187890624999\" x2=\"845.1187890624999\" y1=\"275.0\" y2=\"325.0\" stroke=\"black\" stroke-width=\"3\" /><line x1=\"986.8083203124999\" x2=\"986.8083203124999\" y1=\"125.0\" y2=\"275.0\" stroke=\"black\" stroke-width=\"3\" /><rect x=\"10.0\" y=\"5.0\" width=\"49.517734375\" height=\"40\" stroke=\"black\" fill=\"white\" stroke-width=\"0\" /><text x=\"34.7588671875\" y=\"25.0\" dominant-baseline=\"middle\" text-anchor=\"middle\" font-size=\"14px\">(0, 0): </text><rect x=\"10.0\" y=\"55.0\" width=\"49.517734375\" height=\"40\" stroke=\"black\" fill=\"white\" stroke-width=\"0\" /><text x=\"34.7588671875\" y=\"75.0\" dominant-baseline=\"middle\" text-anchor=\"middle\" font-size=\"14px\">(0, 1): </text><rect x=\"10.0\" y=\"105.0\" width=\"49.517734375\" height=\"40\" stroke=\"black\" fill=\"white\" stroke-width=\"0\" /><text x=\"34.7588671875\" y=\"125.0\" dominant-baseline=\"middle\" text-anchor=\"middle\" font-size=\"14px\">(0, 2): </text><rect x=\"10.0\" y=\"155.0\" width=\"49.517734375\" height=\"40\" stroke=\"black\" fill=\"white\" stroke-width=\"0\" /><text x=\"34.7588671875\" y=\"175.0\" dominant-baseline=\"middle\" text-anchor=\"middle\" font-size=\"14px\">(0, 3): </text><rect x=\"10.0\" y=\"205.0\" width=\"49.517734375\" height=\"40\" stroke=\"black\" fill=\"white\" stroke-width=\"0\" /><text x=\"34.7588671875\" y=\"225.0\" dominant-baseline=\"middle\" text-anchor=\"middle\" font-size=\"14px\">(0, 4): </text><rect x=\"10.0\" y=\"255.0\" width=\"49.517734375\" height=\"40\" stroke=\"black\" fill=\"white\" stroke-width=\"0\" /><text x=\"34.7588671875\" y=\"275.0\" dominant-baseline=\"middle\" text-anchor=\"middle\" font-size=\"14px\">(0, 5): </text><rect x=\"10.0\" y=\"305.0\" width=\"49.517734375\" height=\"40\" stroke=\"black\" fill=\"white\" stroke-width=\"0\" /><text x=\"34.7588671875\" y=\"325.0\" dominant-baseline=\"middle\" text-anchor=\"middle\" font-size=\"14px\">(0, 6): </text><rect x=\"10.0\" y=\"355.0\" width=\"49.517734375\" height=\"40\" stroke=\"black\" fill=\"white\" stroke-width=\"0\" /><text x=\"34.7588671875\" y=\"375.0\" dominant-baseline=\"middle\" text-anchor=\"middle\" font-size=\"14px\">(0, 7): </text><rect x=\"79.517734375\" y=\"5.0\" width=\"52.7823046875\" height=\"40\" stroke=\"black\" fill=\"white\" stroke-width=\"1\" /><text x=\"105.90888671875001\" y=\"25.0\" dominant-baseline=\"middle\" text-anchor=\"middle\" font-size=\"14px\">Ry(x0)</text><rect x=\"79.517734375\" y=\"55.0\" width=\"52.7823046875\" height=\"40\" stroke=\"black\" fill=\"white\" stroke-width=\"1\" /><text x=\"105.90888671875001\" y=\"75.0\" dominant-baseline=\"middle\" text-anchor=\"middle\" font-size=\"14px\">Ry(x1)</text><circle cx=\"172.3000390625\" cy=\"25.0\" r=\"10.0\" /><rect x=\"152.3000390625\" y=\"55.0\" width=\"40\" height=\"40\" stroke=\"black\" fill=\"white\" stroke-width=\"1\" /><text x=\"172.3000390625\" y=\"75.0\" dominant-baseline=\"middle\" text-anchor=\"middle\" font-size=\"18px\">X</text><rect x=\"212.3000390625\" y=\"105.0\" width=\"52.7823046875\" height=\"40\" stroke=\"black\" fill=\"white\" stroke-width=\"1\" /><text x=\"238.69119140625\" y=\"125.0\" dominant-baseline=\"middle\" text-anchor=\"middle\" font-size=\"14px\">Ry(x2)</text><rect x=\"212.3000390625\" y=\"155.0\" width=\"52.7823046875\" height=\"40\" stroke=\"black\" fill=\"white\" stroke-width=\"1\" /><text x=\"238.69119140625\" y=\"175.0\" dominant-baseline=\"middle\" text-anchor=\"middle\" font-size=\"14px\">Ry(x3)</text><circle cx=\"305.08234375\" cy=\"175.0\" r=\"10.0\" /><rect x=\"285.08234375\" y=\"105.0\" width=\"40\" height=\"40\" stroke=\"black\" fill=\"white\" stroke-width=\"1\" /><text x=\"305.08234375\" y=\"125.0\" dominant-baseline=\"middle\" text-anchor=\"middle\" font-size=\"18px\">X</text><rect x=\"345.08234375\" y=\"205.0\" width=\"52.7823046875\" height=\"40\" stroke=\"black\" fill=\"white\" stroke-width=\"1\" /><text x=\"371.47349609375\" y=\"225.0\" dominant-baseline=\"middle\" text-anchor=\"middle\" font-size=\"14px\">Ry(x4)</text><rect x=\"345.08234375\" y=\"255.0\" width=\"52.7823046875\" height=\"40\" stroke=\"black\" fill=\"white\" stroke-width=\"1\" /><text x=\"371.47349609375\" y=\"275.0\" dominant-baseline=\"middle\" text-anchor=\"middle\" font-size=\"14px\">Ry(x5)</text><circle cx=\"437.8646484375\" cy=\"225.0\" r=\"10.0\" /><rect x=\"417.8646484375\" y=\"255.0\" width=\"40\" height=\"40\" stroke=\"black\" fill=\"white\" stroke-width=\"1\" /><text x=\"437.8646484375\" y=\"275.0\" dominant-baseline=\"middle\" text-anchor=\"middle\" font-size=\"18px\">X</text><rect x=\"477.8646484375\" y=\"305.0\" width=\"52.7823046875\" height=\"40\" stroke=\"black\" fill=\"white\" stroke-width=\"1\" /><text x=\"504.25580078125\" y=\"325.0\" dominant-baseline=\"middle\" text-anchor=\"middle\" font-size=\"14px\">Ry(x6)</text><rect x=\"477.8646484375\" y=\"355.0\" width=\"52.7823046875\" height=\"40\" stroke=\"black\" fill=\"white\" stroke-width=\"1\" /><text x=\"504.25580078125\" y=\"375.0\" dominant-baseline=\"middle\" text-anchor=\"middle\" font-size=\"14px\">Ry(x7)</text><circle cx=\"570.646953125\" cy=\"375.0\" r=\"10.0\" /><rect x=\"550.646953125\" y=\"305.0\" width=\"40\" height=\"40\" stroke=\"black\" fill=\"white\" stroke-width=\"1\" /><text x=\"570.646953125\" y=\"325.0\" dominant-baseline=\"middle\" text-anchor=\"middle\" font-size=\"18px\">X</text><rect x=\"610.646953125\" y=\"55.0\" width=\"52.7823046875\" height=\"40\" stroke=\"black\" fill=\"white\" stroke-width=\"1\" /><text x=\"637.03810546875\" y=\"75.0\" dominant-baseline=\"middle\" text-anchor=\"middle\" font-size=\"14px\">Ry(x8)</text><rect x=\"610.646953125\" y=\"105.0\" width=\"52.7823046875\" height=\"40\" stroke=\"black\" fill=\"white\" stroke-width=\"1\" /><text x=\"637.03810546875\" y=\"125.0\" dominant-baseline=\"middle\" text-anchor=\"middle\" font-size=\"14px\">Ry(x9)</text><circle cx=\"703.4292578124999\" cy=\"75.0\" r=\"10.0\" /><rect x=\"683.4292578124999\" y=\"105.0\" width=\"40\" height=\"40\" stroke=\"black\" fill=\"white\" stroke-width=\"1\" /><text x=\"703.4292578124999\" y=\"125.0\" dominant-baseline=\"middle\" text-anchor=\"middle\" font-size=\"18px\">X</text><rect x=\"743.4292578124999\" y=\"255.0\" width=\"61.68953125\" height=\"40\" stroke=\"black\" fill=\"white\" stroke-width=\"1\" /><text x=\"774.2740234375\" y=\"275.0\" dominant-baseline=\"middle\" text-anchor=\"middle\" font-size=\"14px\">Ry(x10)</text><rect x=\"743.4292578124999\" y=\"305.0\" width=\"61.68953125\" height=\"40\" stroke=\"black\" fill=\"white\" stroke-width=\"1\" /><text x=\"774.2740234375\" y=\"325.0\" dominant-baseline=\"middle\" text-anchor=\"middle\" font-size=\"14px\">Ry(x11)</text><circle cx=\"845.1187890624999\" cy=\"325.0\" r=\"10.0\" /><rect x=\"825.1187890624999\" y=\"255.0\" width=\"40\" height=\"40\" stroke=\"black\" fill=\"white\" stroke-width=\"1\" /><text x=\"845.1187890624999\" y=\"275.0\" dominant-baseline=\"middle\" text-anchor=\"middle\" font-size=\"18px\">X</text><rect x=\"885.1187890624999\" y=\"105.0\" width=\"61.68953125\" height=\"40\" stroke=\"black\" fill=\"white\" stroke-width=\"1\" /><text x=\"915.9635546874999\" y=\"125.0\" dominant-baseline=\"middle\" text-anchor=\"middle\" font-size=\"14px\">Ry(x12)</text><rect x=\"885.1187890624999\" y=\"255.0\" width=\"61.68953125\" height=\"40\" stroke=\"black\" fill=\"white\" stroke-width=\"1\" /><text x=\"915.9635546874999\" y=\"275.0\" dominant-baseline=\"middle\" text-anchor=\"middle\" font-size=\"14px\">Ry(x13)</text><circle cx=\"986.8083203124999\" cy=\"125.0\" r=\"10.0\" /><rect x=\"966.8083203124999\" y=\"255.0\" width=\"40\" height=\"40\" stroke=\"black\" fill=\"white\" stroke-width=\"1\" /><text x=\"986.8083203124999\" y=\"275.0\" dominant-baseline=\"middle\" text-anchor=\"middle\" font-size=\"18px\">X</text></svg>"
      ],
      "text/plain": [
       "<cirq.contrib.svg.svg.SVGCircuit at 0x7ffa740819b0>"
      ]
     },
     "execution_count": 103,
     "metadata": {},
     "output_type": "execute_result"
    }
   ],
   "source": [
    "SVGCircuit(ttn_binary_classification_model._ttn_real_model_mnist(cirq.GridQubit.rect(1,8))[0])"
   ]
  },
  {
   "cell_type": "code",
   "execution_count": 107,
   "metadata": {},
   "outputs": [
    {
     "name": "stdout",
     "output_type": "stream",
     "text": [
      "Train on 13302 samples\n",
      "Epoch 1/10\n",
      "13302/13302 [==============================] - 58s 4ms/sample - loss: 0.7534 - _custom_accuracy: 0.7359\n",
      "Epoch 2/10\n",
      "13302/13302 [==============================] - 58s 4ms/sample - loss: 0.4190 - _custom_accuracy: 0.9822\n",
      "Epoch 3/10\n",
      "13302/13302 [==============================] - 59s 4ms/sample - loss: 0.4138 - _custom_accuracy: 0.9816\n",
      "Epoch 4/10\n",
      "13302/13302 [==============================] - 59s 4ms/sample - loss: 0.4113 - _custom_accuracy: 0.9830\n",
      "Epoch 5/10\n",
      "13302/13302 [==============================] - 58s 4ms/sample - loss: 0.4132 - _custom_accuracy: 0.9823\n",
      "Epoch 6/10\n",
      "13302/13302 [==============================] - 58s 4ms/sample - loss: 0.4128 - _custom_accuracy: 0.9810\n",
      "Epoch 7/10\n",
      "13302/13302 [==============================] - 57s 4ms/sample - loss: 0.4117 - _custom_accuracy: 0.9835\n",
      "Epoch 8/10\n",
      "13302/13302 [==============================] - 57s 4ms/sample - loss: 0.4113 - _custom_accuracy: 0.9837\n",
      "Epoch 9/10\n",
      "13302/13302 [==============================] - 57s 4ms/sample - loss: 0.4122 - _custom_accuracy: 0.9825\n",
      "Epoch 10/10\n",
      "13302/13302 [==============================] - 57s 4ms/sample - loss: 0.4114 - _custom_accuracy: 0.9832\n"
     ]
    },
    {
     "data": {
      "image/png": "[encoded data removed]",
      "text/plain": [
       "<Figure size 432x288 with 1 Axes>"
      ]
     },
     "metadata": {
      "needs_background": "light"
     },
     "output_type": "display_data"
    },
    {
     "name": "stdout",
     "output_type": "stream",
     "text": [
      "Final loss value:\n",
      "0.41139821378185665\n"
     ]
    }
   ],
   "source": [
    "ttn_binary_classification_model.mnist_model_fit(epochs=10, batch_size=250, learning_rate=0.1)"
   ]
  },
  {
   "cell_type": "code",
   "execution_count": 108,
   "metadata": {},
   "outputs": [
    {
     "name": "stdout",
     "output_type": "stream",
     "text": [
      "(1478, 1) (1478, 1)\n"
     ]
    },
    {
     "data": {
      "text/plain": [
       "96.75236791372299"
      ]
     },
     "execution_count": 108,
     "metadata": {},
     "output_type": "execute_result"
    }
   ],
   "source": [
    "ttn_binary_classification_model.mnist_model_accuracy()"
   ]
  },
  {
   "cell_type": "markdown",
   "metadata": {},
   "source": [
    "### MERA MNIST Binary Classification Data"
   ]
  },
  {
   "cell_type": "code",
   "execution_count": 114,
   "metadata": {},
   "outputs": [],
   "source": [
    "class MERABinaryClassificationModel():\n",
    "    def __init__(self):\n",
    "        mnist_data = MNISTData()\n",
    "        self.mnist_X_train, self.mnist_X_test, self.mnist_y_train, self.mnist_y_test = mnist_data.get_binary_test_train_split()\n",
    "        return\n",
    "    \n",
    "    def _ttn_real_unitary(self, qubits, symbols, reverse=False):\n",
    "        circuit = cirq.Circuit()\n",
    "        circuit.append(cirq.ry(symbols[0])(qubits[0]))\n",
    "        circuit.append(cirq.ry(symbols[1])(qubits[1]))\n",
    "        if reverse:\n",
    "            circuit.append(cirq.CNOT(qubits[1], qubits[0]))\n",
    "        else:\n",
    "            circuit.append(cirq.CNOT(qubits[0], qubits[1]))\n",
    "        return circuit\n",
    "\n",
    "    def _mera_real_model_mnist(self, qubits):\n",
    "        symbols, circuit = sympy.symbols('x0:22'), cirq.Circuit()\n",
    "        circuit.append(self._ttn_real_unitary(qubits[1:3], symbols[:2])) #D1\n",
    "        circuit.append(self._ttn_real_unitary(qubits[3:5], symbols[2:4])) #D2\n",
    "        circuit.append(self._ttn_real_unitary(qubits[5:7], symbols[4:6])) #D3\n",
    "        \n",
    "        circuit.append(self._ttn_real_unitary(qubits[:2], symbols[6:8]))   #U1\n",
    "        circuit.append(self._ttn_real_unitary(qubits[2:4], symbols[8:10], reverse=True)) #U2\n",
    "        circuit.append(self._ttn_real_unitary(qubits[4:6], symbols[10:12])) #U3\n",
    "        circuit.append(self._ttn_real_unitary(qubits[6:8], symbols[12:14], reverse=True)) #U4\n",
    "        \n",
    "        circuit.append(self._ttn_real_unitary([qubits[2], qubits[5]], symbols[14:16])) #D4\n",
    "        \n",
    "        circuit.append(self._ttn_real_unitary(qubits[1:3], symbols[16:18])) #U5\n",
    "        circuit.append(self._ttn_real_unitary(qubits[5:7], symbols[18:20], reverse=True))#U6\n",
    "        \n",
    "        circuit.append(self._ttn_real_unitary([qubits[2], qubits[5]], symbols[20:22]))#U7\n",
    "        return circuit, symbols\n",
    "    \n",
    "    @tf.function\n",
    "    def _custom_accuracy(self, y_true, y_pred):\n",
    "        y_true = tf.squeeze(y_true)\n",
    "        y_pred = tf.map_fn(lambda x: 1.0 if x >= 0.0 else -1.0, y_pred)\n",
    "        return tf.keras.backend.mean(tf.keras.backend.equal(y_true, y_pred))\n",
    "    \n",
    "    def _mnist_model_compile(self, learning_rate=0.1):\n",
    "        cluster_state_bits = cirq.GridQubit.rect(1,8)\n",
    "        readout_operators = cirq.Z(cluster_state_bits[5])\n",
    "        \n",
    "        mnist_ttn_model, symbols = self._mera_real_model_mnist(cluster_state_bits)\n",
    "        mnist_data_input = tf.keras.Input(shape=(), dtype=tf.dtypes.string)\n",
    "        mnist_pqc = tfq.layers.PQC(mnist_ttn_model, readout_operators, initializer=tf.keras.initializers.RandomUniform(-np.pi, np.pi))\n",
    "        mnist_measurement_output = mnist_pqc(mnist_data_input)\n",
    "        \n",
    "        mnist_model = tf.keras.Model(inputs=mnist_data_input, outputs=mnist_measurement_output)\n",
    "        mnist_model.compile(optimizer=tf.keras.optimizers.Adam(learning_rate=learning_rate), loss=tf.keras.losses.MSE, metrics=[self._custom_accuracy])\n",
    "        tf.keras.utils.plot_model(mnist_model, show_shapes=True, dpi=70)\n",
    "        \n",
    "        self.mnist_model = mnist_model\n",
    "    \n",
    "    def mnist_model_fit(self, epochs=10, learning_rate=0.1, batch_size=500):\n",
    "        self._mnist_model_compile(learning_rate=learning_rate)\n",
    "        history = self.mnist_model.fit(x=self.mnist_X_train, y=self.mnist_y_train, epochs=epochs, batch_size=batch_size, verbose=1)\n",
    "        plt.plot(history.history['loss'])\n",
    "        plt.title(\"Binary Classification for MNIST data set on 0,1 digits\")\n",
    "        plt.xlabel(\"Iterations\")\n",
    "        plt.ylabel(\"Error in classification\")\n",
    "        plt.show()\n",
    "        print(\"Final loss value:\")\n",
    "        print(history.history[\"loss\"][-1])\n",
    "        \n",
    "    def mnist_model_accuracy(self):\n",
    "        predicted = self.mnist_model.predict(self.mnist_X_test)\n",
    "        predicted[predicted >= 0] = 1.0\n",
    "        predicted[predicted < 0] = -1.0\n",
    "        mnist_y_test = np.expand_dims(self.mnist_y_test, axis=1)\n",
    "        print(predicted.shape, mnist_y_test.shape)\n",
    "        return (1-np.mean(np.abs(predicted-mnist_y_test))) * 100"
   ]
  },
  {
   "cell_type": "code",
   "execution_count": 115,
   "metadata": {},
   "outputs": [],
   "source": [
    "mera_binary_classification_model = MERABinaryClassificationModel()"
   ]
  },
  {
   "cell_type": "code",
   "execution_count": 117,
   "metadata": {},
   "outputs": [
    {
     "data": {
      "image/svg+xml": [
       "<svg xmlns=\"http://www.w3.org/2000/svg\" width=\"1623.5664453125\" height=\"400.0\"><line x1=\"34.7588671875\" x2=\"1593.5664453125\" y1=\"25.0\" y2=\"25.0\" stroke=\"#1967d2\" stroke-width=\"1\" /><line x1=\"34.7588671875\" x2=\"1593.5664453125\" y1=\"75.0\" y2=\"75.0\" stroke=\"#1967d2\" stroke-width=\"1\" /><line x1=\"34.7588671875\" x2=\"1593.5664453125\" y1=\"125.0\" y2=\"125.0\" stroke=\"#1967d2\" stroke-width=\"1\" /><line x1=\"34.7588671875\" x2=\"1593.5664453125\" y1=\"175.0\" y2=\"175.0\" stroke=\"#1967d2\" stroke-width=\"1\" /><line x1=\"34.7588671875\" x2=\"1593.5664453125\" y1=\"225.0\" y2=\"225.0\" stroke=\"#1967d2\" stroke-width=\"1\" /><line x1=\"34.7588671875\" x2=\"1593.5664453125\" y1=\"275.0\" y2=\"275.0\" stroke=\"#1967d2\" stroke-width=\"1\" /><line x1=\"34.7588671875\" x2=\"1593.5664453125\" y1=\"325.0\" y2=\"325.0\" stroke=\"#1967d2\" stroke-width=\"1\" /><line x1=\"34.7588671875\" x2=\"1593.5664453125\" y1=\"375.0\" y2=\"375.0\" stroke=\"#1967d2\" stroke-width=\"1\" /><line x1=\"172.3000390625\" x2=\"172.3000390625\" y1=\"75.0\" y2=\"125.0\" stroke=\"black\" stroke-width=\"3\" /><line x1=\"305.08234375\" x2=\"305.08234375\" y1=\"175.0\" y2=\"225.0\" stroke=\"black\" stroke-width=\"3\" /><line x1=\"437.8646484375\" x2=\"437.8646484375\" y1=\"275.0\" y2=\"325.0\" stroke=\"black\" stroke-width=\"3\" /><line x1=\"570.646953125\" x2=\"570.646953125\" y1=\"25.0\" y2=\"75.0\" stroke=\"black\" stroke-width=\"3\" /><line x1=\"703.4292578124999\" x2=\"703.4292578124999\" y1=\"125.0\" y2=\"175.0\" stroke=\"black\" stroke-width=\"3\" /><line x1=\"845.1187890624999\" x2=\"845.1187890624999\" y1=\"225.0\" y2=\"275.0\" stroke=\"black\" stroke-width=\"3\" /><line x1=\"986.8083203124999\" x2=\"986.8083203124999\" y1=\"325.0\" y2=\"375.0\" stroke=\"black\" stroke-width=\"3\" /><line x1=\"1128.4978515624998\" x2=\"1128.4978515624998\" y1=\"125.0\" y2=\"275.0\" stroke=\"black\" stroke-width=\"3\" /><line x1=\"1270.1873828125\" x2=\"1270.1873828125\" y1=\"75.0\" y2=\"125.0\" stroke=\"black\" stroke-width=\"3\" /><line x1=\"1411.8769140625\" x2=\"1411.8769140625\" y1=\"275.0\" y2=\"325.0\" stroke=\"black\" stroke-width=\"3\" /><line x1=\"1553.5664453125\" x2=\"1553.5664453125\" y1=\"125.0\" y2=\"275.0\" stroke=\"black\" stroke-width=\"3\" /><rect x=\"10.0\" y=\"5.0\" width=\"49.517734375\" height=\"40\" stroke=\"black\" fill=\"white\" stroke-width=\"0\" /><text x=\"34.7588671875\" y=\"25.0\" dominant-baseline=\"middle\" text-anchor=\"middle\" font-size=\"14px\">(0, 0): </text><rect x=\"10.0\" y=\"55.0\" width=\"49.517734375\" height=\"40\" stroke=\"black\" fill=\"white\" stroke-width=\"0\" /><text x=\"34.7588671875\" y=\"75.0\" dominant-baseline=\"middle\" text-anchor=\"middle\" font-size=\"14px\">(0, 1): </text><rect x=\"10.0\" y=\"105.0\" width=\"49.517734375\" height=\"40\" stroke=\"black\" fill=\"white\" stroke-width=\"0\" /><text x=\"34.7588671875\" y=\"125.0\" dominant-baseline=\"middle\" text-anchor=\"middle\" font-size=\"14px\">(0, 2): </text><rect x=\"10.0\" y=\"155.0\" width=\"49.517734375\" height=\"40\" stroke=\"black\" fill=\"white\" stroke-width=\"0\" /><text x=\"34.7588671875\" y=\"175.0\" dominant-baseline=\"middle\" text-anchor=\"middle\" font-size=\"14px\">(0, 3): </text><rect x=\"10.0\" y=\"205.0\" width=\"49.517734375\" height=\"40\" stroke=\"black\" fill=\"white\" stroke-width=\"0\" /><text x=\"34.7588671875\" y=\"225.0\" dominant-baseline=\"middle\" text-anchor=\"middle\" font-size=\"14px\">(0, 4): </text><rect x=\"10.0\" y=\"255.0\" width=\"49.517734375\" height=\"40\" stroke=\"black\" fill=\"white\" stroke-width=\"0\" /><text x=\"34.7588671875\" y=\"275.0\" dominant-baseline=\"middle\" text-anchor=\"middle\" font-size=\"14px\">(0, 5): </text><rect x=\"10.0\" y=\"305.0\" width=\"49.517734375\" height=\"40\" stroke=\"black\" fill=\"white\" stroke-width=\"0\" /><text x=\"34.7588671875\" y=\"325.0\" dominant-baseline=\"middle\" text-anchor=\"middle\" font-size=\"14px\">(0, 6): </text><rect x=\"10.0\" y=\"355.0\" width=\"49.517734375\" height=\"40\" stroke=\"black\" fill=\"white\" stroke-width=\"0\" /><text x=\"34.7588671875\" y=\"375.0\" dominant-baseline=\"middle\" text-anchor=\"middle\" font-size=\"14px\">(0, 7): </text><rect x=\"79.517734375\" y=\"55.0\" width=\"52.7823046875\" height=\"40\" stroke=\"black\" fill=\"white\" stroke-width=\"1\" /><text x=\"105.90888671875001\" y=\"75.0\" dominant-baseline=\"middle\" text-anchor=\"middle\" font-size=\"14px\">Ry(x0)</text><rect x=\"79.517734375\" y=\"105.0\" width=\"52.7823046875\" height=\"40\" stroke=\"black\" fill=\"white\" stroke-width=\"1\" /><text x=\"105.90888671875001\" y=\"125.0\" dominant-baseline=\"middle\" text-anchor=\"middle\" font-size=\"14px\">Ry(x1)</text><circle cx=\"172.3000390625\" cy=\"75.0\" r=\"10.0\" /><rect x=\"152.3000390625\" y=\"105.0\" width=\"40\" height=\"40\" stroke=\"black\" fill=\"white\" stroke-width=\"1\" /><text x=\"172.3000390625\" y=\"125.0\" dominant-baseline=\"middle\" text-anchor=\"middle\" font-size=\"18px\">X</text><rect x=\"212.3000390625\" y=\"155.0\" width=\"52.7823046875\" height=\"40\" stroke=\"black\" fill=\"white\" stroke-width=\"1\" /><text x=\"238.69119140625\" y=\"175.0\" dominant-baseline=\"middle\" text-anchor=\"middle\" font-size=\"14px\">Ry(x2)</text><rect x=\"212.3000390625\" y=\"205.0\" width=\"52.7823046875\" height=\"40\" stroke=\"black\" fill=\"white\" stroke-width=\"1\" /><text x=\"238.69119140625\" y=\"225.0\" dominant-baseline=\"middle\" text-anchor=\"middle\" font-size=\"14px\">Ry(x3)</text><circle cx=\"305.08234375\" cy=\"175.0\" r=\"10.0\" /><rect x=\"285.08234375\" y=\"205.0\" width=\"40\" height=\"40\" stroke=\"black\" fill=\"white\" stroke-width=\"1\" /><text x=\"305.08234375\" y=\"225.0\" dominant-baseline=\"middle\" text-anchor=\"middle\" font-size=\"18px\">X</text><rect x=\"345.08234375\" y=\"255.0\" width=\"52.7823046875\" height=\"40\" stroke=\"black\" fill=\"white\" stroke-width=\"1\" /><text x=\"371.47349609375\" y=\"275.0\" dominant-baseline=\"middle\" text-anchor=\"middle\" font-size=\"14px\">Ry(x4)</text><rect x=\"345.08234375\" y=\"305.0\" width=\"52.7823046875\" height=\"40\" stroke=\"black\" fill=\"white\" stroke-width=\"1\" /><text x=\"371.47349609375\" y=\"325.0\" dominant-baseline=\"middle\" text-anchor=\"middle\" font-size=\"14px\">Ry(x5)</text><circle cx=\"437.8646484375\" cy=\"275.0\" r=\"10.0\" /><rect x=\"417.8646484375\" y=\"305.0\" width=\"40\" height=\"40\" stroke=\"black\" fill=\"white\" stroke-width=\"1\" /><text x=\"437.8646484375\" y=\"325.0\" dominant-baseline=\"middle\" text-anchor=\"middle\" font-size=\"18px\">X</text><rect x=\"477.8646484375\" y=\"5.0\" width=\"52.7823046875\" height=\"40\" stroke=\"black\" fill=\"white\" stroke-width=\"1\" /><text x=\"504.25580078125\" y=\"25.0\" dominant-baseline=\"middle\" text-anchor=\"middle\" font-size=\"14px\">Ry(x6)</text><rect x=\"477.8646484375\" y=\"55.0\" width=\"52.7823046875\" height=\"40\" stroke=\"black\" fill=\"white\" stroke-width=\"1\" /><text x=\"504.25580078125\" y=\"75.0\" dominant-baseline=\"middle\" text-anchor=\"middle\" font-size=\"14px\">Ry(x7)</text><circle cx=\"570.646953125\" cy=\"25.0\" r=\"10.0\" /><rect x=\"550.646953125\" y=\"55.0\" width=\"40\" height=\"40\" stroke=\"black\" fill=\"white\" stroke-width=\"1\" /><text x=\"570.646953125\" y=\"75.0\" dominant-baseline=\"middle\" text-anchor=\"middle\" font-size=\"18px\">X</text><rect x=\"610.646953125\" y=\"105.0\" width=\"52.7823046875\" height=\"40\" stroke=\"black\" fill=\"white\" stroke-width=\"1\" /><text x=\"637.03810546875\" y=\"125.0\" dominant-baseline=\"middle\" text-anchor=\"middle\" font-size=\"14px\">Ry(x8)</text><rect x=\"610.646953125\" y=\"155.0\" width=\"52.7823046875\" height=\"40\" stroke=\"black\" fill=\"white\" stroke-width=\"1\" /><text x=\"637.03810546875\" y=\"175.0\" dominant-baseline=\"middle\" text-anchor=\"middle\" font-size=\"14px\">Ry(x9)</text><circle cx=\"703.4292578124999\" cy=\"175.0\" r=\"10.0\" /><rect x=\"683.4292578124999\" y=\"105.0\" width=\"40\" height=\"40\" stroke=\"black\" fill=\"white\" stroke-width=\"1\" /><text x=\"703.4292578124999\" y=\"125.0\" dominant-baseline=\"middle\" text-anchor=\"middle\" font-size=\"18px\">X</text><rect x=\"743.4292578124999\" y=\"205.0\" width=\"61.68953125\" height=\"40\" stroke=\"black\" fill=\"white\" stroke-width=\"1\" /><text x=\"774.2740234375\" y=\"225.0\" dominant-baseline=\"middle\" text-anchor=\"middle\" font-size=\"14px\">Ry(x10)</text><rect x=\"743.4292578124999\" y=\"255.0\" width=\"61.68953125\" height=\"40\" stroke=\"black\" fill=\"white\" stroke-width=\"1\" /><text x=\"774.2740234375\" y=\"275.0\" dominant-baseline=\"middle\" text-anchor=\"middle\" font-size=\"14px\">Ry(x11)</text><circle cx=\"845.1187890624999\" cy=\"225.0\" r=\"10.0\" /><rect x=\"825.1187890624999\" y=\"255.0\" width=\"40\" height=\"40\" stroke=\"black\" fill=\"white\" stroke-width=\"1\" /><text x=\"845.1187890624999\" y=\"275.0\" dominant-baseline=\"middle\" text-anchor=\"middle\" font-size=\"18px\">X</text><rect x=\"885.1187890624999\" y=\"305.0\" width=\"61.68953125\" height=\"40\" stroke=\"black\" fill=\"white\" stroke-width=\"1\" /><text x=\"915.9635546874999\" y=\"325.0\" dominant-baseline=\"middle\" text-anchor=\"middle\" font-size=\"14px\">Ry(x12)</text><rect x=\"885.1187890624999\" y=\"355.0\" width=\"61.68953125\" height=\"40\" stroke=\"black\" fill=\"white\" stroke-width=\"1\" /><text x=\"915.9635546874999\" y=\"375.0\" dominant-baseline=\"middle\" text-anchor=\"middle\" font-size=\"14px\">Ry(x13)</text><circle cx=\"986.8083203124999\" cy=\"375.0\" r=\"10.0\" /><rect x=\"966.8083203124999\" y=\"305.0\" width=\"40\" height=\"40\" stroke=\"black\" fill=\"white\" stroke-width=\"1\" /><text x=\"986.8083203124999\" y=\"325.0\" dominant-baseline=\"middle\" text-anchor=\"middle\" font-size=\"18px\">X</text><rect x=\"1026.8083203124997\" y=\"105.0\" width=\"61.68953125\" height=\"40\" stroke=\"black\" fill=\"white\" stroke-width=\"1\" /><text x=\"1057.6530859374998\" y=\"125.0\" dominant-baseline=\"middle\" text-anchor=\"middle\" font-size=\"14px\">Ry(x14)</text><rect x=\"1026.8083203124997\" y=\"255.0\" width=\"61.68953125\" height=\"40\" stroke=\"black\" fill=\"white\" stroke-width=\"1\" /><text x=\"1057.6530859374998\" y=\"275.0\" dominant-baseline=\"middle\" text-anchor=\"middle\" font-size=\"14px\">Ry(x15)</text><circle cx=\"1128.4978515624998\" cy=\"125.0\" r=\"10.0\" /><rect x=\"1108.4978515624998\" y=\"255.0\" width=\"40\" height=\"40\" stroke=\"black\" fill=\"white\" stroke-width=\"1\" /><text x=\"1128.4978515624998\" y=\"275.0\" dominant-baseline=\"middle\" text-anchor=\"middle\" font-size=\"18px\">X</text><rect x=\"1168.4978515624998\" y=\"55.0\" width=\"61.68953125\" height=\"40\" stroke=\"black\" fill=\"white\" stroke-width=\"1\" /><text x=\"1199.3426171874999\" y=\"75.0\" dominant-baseline=\"middle\" text-anchor=\"middle\" font-size=\"14px\">Ry(x16)</text><rect x=\"1168.4978515624998\" y=\"105.0\" width=\"61.68953125\" height=\"40\" stroke=\"black\" fill=\"white\" stroke-width=\"1\" /><text x=\"1199.3426171874999\" y=\"125.0\" dominant-baseline=\"middle\" text-anchor=\"middle\" font-size=\"14px\">Ry(x17)</text><circle cx=\"1270.1873828125\" cy=\"75.0\" r=\"10.0\" /><rect x=\"1250.1873828125\" y=\"105.0\" width=\"40\" height=\"40\" stroke=\"black\" fill=\"white\" stroke-width=\"1\" /><text x=\"1270.1873828125\" y=\"125.0\" dominant-baseline=\"middle\" text-anchor=\"middle\" font-size=\"18px\">X</text><rect x=\"1310.1873828125\" y=\"255.0\" width=\"61.68953125\" height=\"40\" stroke=\"black\" fill=\"white\" stroke-width=\"1\" /><text x=\"1341.0321484375\" y=\"275.0\" dominant-baseline=\"middle\" text-anchor=\"middle\" font-size=\"14px\">Ry(x18)</text><rect x=\"1310.1873828125\" y=\"305.0\" width=\"61.68953125\" height=\"40\" stroke=\"black\" fill=\"white\" stroke-width=\"1\" /><text x=\"1341.0321484375\" y=\"325.0\" dominant-baseline=\"middle\" text-anchor=\"middle\" font-size=\"14px\">Ry(x19)</text><circle cx=\"1411.8769140625\" cy=\"325.0\" r=\"10.0\" /><rect x=\"1391.8769140625\" y=\"255.0\" width=\"40\" height=\"40\" stroke=\"black\" fill=\"white\" stroke-width=\"1\" /><text x=\"1411.8769140625\" y=\"275.0\" dominant-baseline=\"middle\" text-anchor=\"middle\" font-size=\"18px\">X</text><rect x=\"1451.8769140625\" y=\"105.0\" width=\"61.68953125\" height=\"40\" stroke=\"black\" fill=\"white\" stroke-width=\"1\" /><text x=\"1482.7216796875\" y=\"125.0\" dominant-baseline=\"middle\" text-anchor=\"middle\" font-size=\"14px\">Ry(x20)</text><rect x=\"1451.8769140625\" y=\"255.0\" width=\"61.68953125\" height=\"40\" stroke=\"black\" fill=\"white\" stroke-width=\"1\" /><text x=\"1482.7216796875\" y=\"275.0\" dominant-baseline=\"middle\" text-anchor=\"middle\" font-size=\"14px\">Ry(x21)</text><circle cx=\"1553.5664453125\" cy=\"125.0\" r=\"10.0\" /><rect x=\"1533.5664453125\" y=\"255.0\" width=\"40\" height=\"40\" stroke=\"black\" fill=\"white\" stroke-width=\"1\" /><text x=\"1553.5664453125\" y=\"275.0\" dominant-baseline=\"middle\" text-anchor=\"middle\" font-size=\"18px\">X</text></svg>"
      ],
      "text/plain": [
       "<cirq.contrib.svg.svg.SVGCircuit at 0x7ffa7fe624e0>"
      ]
     },
     "execution_count": 117,
     "metadata": {},
     "output_type": "execute_result"
    }
   ],
   "source": [
    "SVGCircuit(mera_binary_classification_model._mera_real_model_mnist(cirq.GridQubit.rect(1,8))[0])"
   ]
  },
  {
   "cell_type": "code",
   "execution_count": 118,
   "metadata": {},
   "outputs": [
    {
     "name": "stdout",
     "output_type": "stream",
     "text": [
      "Train on 13302 samples\n",
      "Epoch 1/10\n",
      "13302/13302 [==============================] - 107s 8ms/sample - loss: 0.4486 - _custom_accuracy: 0.9604\n",
      "Epoch 2/10\n",
      "13302/13302 [==============================] - 105s 8ms/sample - loss: 0.3954 - _custom_accuracy: 0.9823\n",
      "Epoch 3/10\n",
      "13302/13302 [==============================] - 105s 8ms/sample - loss: 0.3935 - _custom_accuracy: 0.9818\n",
      "Epoch 4/10\n",
      "13302/13302 [==============================] - 105s 8ms/sample - loss: 0.3949 - _custom_accuracy: 0.9812\n",
      "Epoch 5/10\n",
      "13302/13302 [==============================] - 104s 8ms/sample - loss: 0.3946 - _custom_accuracy: 0.9825\n",
      "Epoch 6/10\n",
      "13302/13302 [==============================] - 105s 8ms/sample - loss: 0.3928 - _custom_accuracy: 0.9820\n",
      "Epoch 7/10\n",
      "13302/13302 [==============================] - 104s 8ms/sample - loss: 0.3941 - _custom_accuracy: 0.9826\n",
      "Epoch 8/10\n",
      "13302/13302 [==============================] - 104s 8ms/sample - loss: 0.3936 - _custom_accuracy: 0.9835\n",
      "Epoch 9/10\n",
      "13302/13302 [==============================] - 106s 8ms/sample - loss: 0.3934 - _custom_accuracy: 0.9822\n",
      "Epoch 10/10\n",
      "13302/13302 [==============================] - 107s 8ms/sample - loss: 0.3924 - _custom_accuracy: 0.9831\n"
     ]
    },
    {
     "data": {
      "image/png": "[encoded data removed]",
      "text/plain": [
       "<Figure size 432x288 with 1 Axes>"
      ]
     },
     "metadata": {
      "needs_background": "light"
     },
     "output_type": "display_data"
    },
    {
     "name": "stdout",
     "output_type": "stream",
     "text": [
      "Final loss value:\n",
      "0.39239121127748755\n"
     ]
    }
   ],
   "source": [
    "mera_binary_classification_model.mnist_model_fit(epochs=10, batch_size=250, learning_rate=0.1)"
   ]
  },
  {
   "cell_type": "code",
   "execution_count": 119,
   "metadata": {},
   "outputs": [
    {
     "name": "stdout",
     "output_type": "stream",
     "text": [
      "(1478, 1) (1478, 1)\n"
     ]
    },
    {
     "data": {
      "text/plain": [
       "97.97023013234138"
      ]
     },
     "execution_count": 119,
     "metadata": {},
     "output_type": "execute_result"
    }
   ],
   "source": [
    "mera_binary_classification_model.mnist_model_accuracy()"
   ]
  },
  {
   "cell_type": "markdown",
   "metadata": {},
   "source": [
    "### References:\n",
    "\n",
    "1. Grant, E., Benedetti, M., Cao, S., Hallam, A., Lockhart, J., Stojevic, V., Green, A.G. and Severini, S., 2018. Hierarchical quantum classifiers. npj Quantum Information, 4(1), pp.1-8.\n",
    "\n",
    "2. LeCun, Y., Cortes, C. & Burges, C. J. C.The  MNIST  Database  of  Handwritten  Digits(1998).http://yann.lecun.com/exdb/mnist\n",
    "\n",
    "3. Fisher, R. A. The use of multiple measurements in taxonomic problems.Ann. Hum.Genet.7, 179–188 (1936)\n",
    "\n",
    "4. Vartiainen, J.J., Möttönen, M. and Salomaa, M.M., 2004. Efficient decomposition of quantum gates. Physical review letters, 92(17), p.177902."
   ]
  }
 ],
 "metadata": {
  "kernelspec": {
   "display_name": "Python 3",
   "language": "python",
   "name": "python3"
  },
  "language_info": {
   "codemirror_mode": {
    "name": "ipython",
    "version": 3
   },
   "file_extension": ".py",
   "mimetype": "text/x-python",
   "name": "python",
   "nbconvert_exporter": "python",
   "pygments_lexer": "ipython3",
   "version": "3.6.9"
  }
 },
 "nbformat": 4,
 "nbformat_minor": 4
}
