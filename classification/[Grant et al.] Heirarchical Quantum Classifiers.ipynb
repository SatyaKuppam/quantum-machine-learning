{
 "cells": [
  {
   "cell_type": "markdown",
   "metadata": {},
   "source": [
    "## IRIS and MNIST classification using TTN and MERA"
   ]
  },
  {
   "cell_type": "code",
   "execution_count": 1,
   "metadata": {},
   "outputs": [],
   "source": [
    "import tensorflow as tf\n",
    "import tensorflow_quantum as tfq\n",
    "\n",
    "import cirq\n",
    "import sympy\n",
    "import numpy as np\n",
    "import os, csv\n",
    "\n",
    "# visualization tools\n",
    "%matplotlib inline\n",
    "import matplotlib.pyplot as plt\n",
    "from cirq.contrib.svg import SVGCircuit\n",
    "from sklearn.model_selection import train_test_split\n",
    "# TODO: mottonen will be changed to its subpackage and the relative path will change\n",
    "from mottonen import encode_classical_datapoint\n",
    "\n",
    "seed = 42\n",
    "np.random.seed(seed)"
   ]
  },
  {
   "cell_type": "code",
   "execution_count": 2,
   "metadata": {},
   "outputs": [
    {
     "name": "stdout",
     "output_type": "stream",
     "text": [
      "  % Total    % Received % Xferd  Average Speed   Time    Time     Time  Current\n",
      "                                 Dload  Upload   Total   Spent    Left  Speed\n",
      "100  4551  100  4551    0     0  18728      0 --:--:-- --:--:-- --:--:-- 18728\n"
     ]
    }
   ],
   "source": [
    "!export IRIS_URL=\"https://archive.ics.uci.edu/ml/machine-learning-databases/iris/iris.data\" && curl $IRIS_URL > iris.csv"
   ]
  },
  {
   "cell_type": "markdown",
   "metadata": {},
   "source": [
    "## Data Encoding\n",
    "\n",
    "### IRIS data set encoding\n",
    "We standardize the data and make this a binary classification problem.\n",
    "\n",
    "1. First we will fetch the IRIS dataset\n",
    "2. Only select the datagrams with labels 1 or 2, with label 1 as 0 and 2 as 1\n",
    "3. Standadize the data so that each dimension is only $[0, \\frac{\\pi}{2}]$\n",
    "4. Use Mottonen[] to generate the quantum data encoding circuits using qubit encoding"
   ]
  },
  {
   "cell_type": "markdown",
   "metadata": {},
   "source": [
    "### Standardize the data"
   ]
  },
  {
   "cell_type": "code",
   "execution_count": 3,
   "metadata": {},
   "outputs": [
    {
     "name": "stdout",
     "output_type": "stream",
     "text": [
      "(100, 4, 2)\n"
     ]
    }
   ],
   "source": [
    "with open('./iris.csv') as csv_file:\n",
    "    reader = csv.reader(csv_file, delimiter=',')\n",
    "    rows = list(reader)\n",
    "    rows.pop()\n",
    "    data = [row for row in rows if row[4] != 'Iris-virginica']\n",
    "    for datum in data:\n",
    "        if datum[4] == 'Iris-setosa':\n",
    "            datum[4] = 0\n",
    "        else:\n",
    "            datum[4] = 1\n",
    "    data = np.array(data, dtype=np.float32)\n",
    "    labels = data[:,4]\n",
    "    data = data[:,:4]\n",
    "    data = data.reshape(100, 4, 1)\n",
    "    data = (data-np.min(data))/(np.max(data)-np.min(data))\n",
    "    data = np.concatenate((np.cos(np.pi*0.5*data), np.sin(np.pi*0.5*data)), axis=2)\n",
    "    print(data.shape)"
   ]
  },
  {
   "cell_type": "markdown",
   "metadata": {},
   "source": [
    "### Encode the data as quantum circuits and create tensors"
   ]
  },
  {
   "cell_type": "code",
   "execution_count": 4,
   "metadata": {},
   "outputs": [],
   "source": [
    "def get_encoded_data_batch(data, labels):\n",
    "    _data = []\n",
    "    # only reason for using GridQubit is because the serializer in\n",
    "    # cirq for converting it into a tensor only works for GridQubits\n",
    "    # in 'this' cirq release.\n",
    "    qubits = cirq.GridQubit.rect(1,4)\n",
    "    for idx in range(data.shape[0]):\n",
    "        datapoint = data[idx]\n",
    "        _circuit = cirq.Circuit()\n",
    "        for i in range(4):\n",
    "            _circuit.append(encode_classical_datapoint(np.array(datapoint[i][::-1]), [qubits[i]]))\n",
    "        _data.append(_circuit)\n",
    "    X_train, X_test, y_train, y_test = train_test_split(_data, labels, test_size=0.25, random_state=seed)\n",
    "    X_train, X_test = tfq.convert_to_tensor(X_train), tfq.convert_to_tensor(X_test)\n",
    "    \n",
    "    return X_train, X_test, y_train, y_test"
   ]
  },
  {
   "cell_type": "code",
   "execution_count": 5,
   "metadata": {},
   "outputs": [],
   "source": [
    "X_train, X_test, y_train, y_test = get_encoded_data_batch(data, labels)"
   ]
  },
  {
   "cell_type": "markdown",
   "metadata": {},
   "source": [
    "## TTN Model"
   ]
  },
  {
   "cell_type": "markdown",
   "metadata": {},
   "source": [
    "### Model Definitions"
   ]
  },
  {
   "cell_type": "code",
   "execution_count": 6,
   "metadata": {},
   "outputs": [],
   "source": [
    "def ttn_real_unitary(qubits, symbols):\n",
    "    circuit = cirq.Circuit()\n",
    "    circuit.append(cirq.ry(symbols[0])(qubits[0]))\n",
    "    circuit.append(cirq.ry(symbols[1])(qubits[1]))\n",
    "    circuit.append(cirq.CNOT(qubits[0], qubits[1]))\n",
    "    return circuit"
   ]
  },
  {
   "cell_type": "code",
   "execution_count": 7,
   "metadata": {},
   "outputs": [
    {
     "data": {
      "image/svg+xml": [
       "<svg xmlns=\"http://www.w3.org/2000/svg\" width=\"234.108125\" height=\"100.0\"><line x1=\"32.246796875\" x2=\"204.108125\" y1=\"25.0\" y2=\"25.0\" stroke=\"#1967d2\" stroke-width=\"1\" /><line x1=\"32.246796875\" x2=\"204.108125\" y1=\"75.0\" y2=\"75.0\" stroke=\"#1967d2\" stroke-width=\"1\" /><line x1=\"164.108125\" x2=\"164.108125\" y1=\"25.0\" y2=\"75.0\" stroke=\"black\" stroke-width=\"3\" /><rect x=\"10.0\" y=\"5.0\" width=\"44.49359375\" height=\"40\" stroke=\"black\" fill=\"white\" stroke-width=\"0\" /><text x=\"32.246796875\" y=\"25.0\" dominant-baseline=\"middle\" text-anchor=\"middle\" font-size=\"14px\">(0, 0): </text><rect x=\"10.0\" y=\"55.0\" width=\"44.49359375\" height=\"40\" stroke=\"black\" fill=\"white\" stroke-width=\"0\" /><text x=\"32.246796875\" y=\"75.0\" dominant-baseline=\"middle\" text-anchor=\"middle\" font-size=\"14px\">(0, 1): </text><rect x=\"74.49359375\" y=\"5.0\" width=\"49.61453125\" height=\"40\" stroke=\"black\" fill=\"white\" stroke-width=\"1\" /><text x=\"99.300859375\" y=\"25.0\" dominant-baseline=\"middle\" text-anchor=\"middle\" font-size=\"14px\">Ry(x0)</text><rect x=\"74.49359375\" y=\"55.0\" width=\"49.61453125\" height=\"40\" stroke=\"black\" fill=\"white\" stroke-width=\"1\" /><text x=\"99.300859375\" y=\"75.0\" dominant-baseline=\"middle\" text-anchor=\"middle\" font-size=\"14px\">Ry(x1)</text><circle cx=\"164.108125\" cy=\"25.0\" r=\"10.0\" /><rect x=\"144.108125\" y=\"55.0\" width=\"40\" height=\"40\" stroke=\"black\" fill=\"white\" stroke-width=\"1\" /><text x=\"164.108125\" y=\"75.0\" dominant-baseline=\"middle\" text-anchor=\"middle\" font-size=\"18px\">X</text></svg>"
      ],
      "text/plain": [
       "<cirq.contrib.svg.svg.SVGCircuit at 0x7fde3f733110>"
      ]
     },
     "execution_count": 7,
     "metadata": {},
     "output_type": "execute_result"
    }
   ],
   "source": [
    "SVGCircuit(ttn_real_unitary(cirq.GridQubit.rect(1, 2), sympy.symbols('x0:2')))"
   ]
  },
  {
   "cell_type": "code",
   "execution_count": 8,
   "metadata": {},
   "outputs": [],
   "source": [
    "def ttn_model_iris(qubits):\n",
    "    symbols, circuit = sympy.symbols('x0:6'), cirq.Circuit()\n",
    "    circuit.append(ttn_real_unitary(qubits[:2], symbols[:2]))\n",
    "    circuit.append(ttn_real_unitary(qubits[2:4], symbols[2:4]))\n",
    "    circuit.append(ttn_real_unitary(qubits[1:3], symbols[4:6]))\n",
    "    return circuit"
   ]
  },
  {
   "cell_type": "code",
   "execution_count": 9,
   "metadata": {},
   "outputs": [
    {
     "data": {
      "image/svg+xml": [
       "<svg xmlns=\"http://www.w3.org/2000/svg\" width=\"493.3371875\" height=\"200.0\"><line x1=\"32.246796875\" x2=\"463.3371875\" y1=\"25.0\" y2=\"25.0\" stroke=\"#1967d2\" stroke-width=\"1\" /><line x1=\"32.246796875\" x2=\"463.3371875\" y1=\"75.0\" y2=\"75.0\" stroke=\"#1967d2\" stroke-width=\"1\" /><line x1=\"32.246796875\" x2=\"463.3371875\" y1=\"125.0\" y2=\"125.0\" stroke=\"#1967d2\" stroke-width=\"1\" /><line x1=\"32.246796875\" x2=\"463.3371875\" y1=\"175.0\" y2=\"175.0\" stroke=\"#1967d2\" stroke-width=\"1\" /><line x1=\"164.108125\" x2=\"164.108125\" y1=\"25.0\" y2=\"75.0\" stroke=\"black\" stroke-width=\"3\" /><line x1=\"293.72265625\" x2=\"293.72265625\" y1=\"125.0\" y2=\"175.0\" stroke=\"black\" stroke-width=\"3\" /><line x1=\"423.3371875\" x2=\"423.3371875\" y1=\"75.0\" y2=\"125.0\" stroke=\"black\" stroke-width=\"3\" /><rect x=\"10.0\" y=\"5.0\" width=\"44.49359375\" height=\"40\" stroke=\"black\" fill=\"white\" stroke-width=\"0\" /><text x=\"32.246796875\" y=\"25.0\" dominant-baseline=\"middle\" text-anchor=\"middle\" font-size=\"14px\">(0, 0): </text><rect x=\"10.0\" y=\"55.0\" width=\"44.49359375\" height=\"40\" stroke=\"black\" fill=\"white\" stroke-width=\"0\" /><text x=\"32.246796875\" y=\"75.0\" dominant-baseline=\"middle\" text-anchor=\"middle\" font-size=\"14px\">(0, 1): </text><rect x=\"10.0\" y=\"105.0\" width=\"44.49359375\" height=\"40\" stroke=\"black\" fill=\"white\" stroke-width=\"0\" /><text x=\"32.246796875\" y=\"125.0\" dominant-baseline=\"middle\" text-anchor=\"middle\" font-size=\"14px\">(0, 2): </text><rect x=\"10.0\" y=\"155.0\" width=\"44.49359375\" height=\"40\" stroke=\"black\" fill=\"white\" stroke-width=\"0\" /><text x=\"32.246796875\" y=\"175.0\" dominant-baseline=\"middle\" text-anchor=\"middle\" font-size=\"14px\">(0, 3): </text><rect x=\"74.49359375\" y=\"5.0\" width=\"49.61453125\" height=\"40\" stroke=\"black\" fill=\"white\" stroke-width=\"1\" /><text x=\"99.300859375\" y=\"25.0\" dominant-baseline=\"middle\" text-anchor=\"middle\" font-size=\"14px\">Ry(x0)</text><rect x=\"74.49359375\" y=\"55.0\" width=\"49.61453125\" height=\"40\" stroke=\"black\" fill=\"white\" stroke-width=\"1\" /><text x=\"99.300859375\" y=\"75.0\" dominant-baseline=\"middle\" text-anchor=\"middle\" font-size=\"14px\">Ry(x1)</text><circle cx=\"164.108125\" cy=\"25.0\" r=\"10.0\" /><rect x=\"144.108125\" y=\"55.0\" width=\"40\" height=\"40\" stroke=\"black\" fill=\"white\" stroke-width=\"1\" /><text x=\"164.108125\" y=\"75.0\" dominant-baseline=\"middle\" text-anchor=\"middle\" font-size=\"18px\">X</text><rect x=\"204.10812499999997\" y=\"105.0\" width=\"49.61453125\" height=\"40\" stroke=\"black\" fill=\"white\" stroke-width=\"1\" /><text x=\"228.915390625\" y=\"125.0\" dominant-baseline=\"middle\" text-anchor=\"middle\" font-size=\"14px\">Ry(x2)</text><rect x=\"204.10812499999997\" y=\"155.0\" width=\"49.61453125\" height=\"40\" stroke=\"black\" fill=\"white\" stroke-width=\"1\" /><text x=\"228.915390625\" y=\"175.0\" dominant-baseline=\"middle\" text-anchor=\"middle\" font-size=\"14px\">Ry(x3)</text><circle cx=\"293.72265625\" cy=\"125.0\" r=\"10.0\" /><rect x=\"273.72265625\" y=\"155.0\" width=\"40\" height=\"40\" stroke=\"black\" fill=\"white\" stroke-width=\"1\" /><text x=\"293.72265625\" y=\"175.0\" dominant-baseline=\"middle\" text-anchor=\"middle\" font-size=\"18px\">X</text><rect x=\"333.72265625\" y=\"55.0\" width=\"49.61453125\" height=\"40\" stroke=\"black\" fill=\"white\" stroke-width=\"1\" /><text x=\"358.529921875\" y=\"75.0\" dominant-baseline=\"middle\" text-anchor=\"middle\" font-size=\"14px\">Ry(x4)</text><rect x=\"333.72265625\" y=\"105.0\" width=\"49.61453125\" height=\"40\" stroke=\"black\" fill=\"white\" stroke-width=\"1\" /><text x=\"358.529921875\" y=\"125.0\" dominant-baseline=\"middle\" text-anchor=\"middle\" font-size=\"14px\">Ry(x5)</text><circle cx=\"423.3371875\" cy=\"75.0\" r=\"10.0\" /><rect x=\"403.3371875\" y=\"105.0\" width=\"40\" height=\"40\" stroke=\"black\" fill=\"white\" stroke-width=\"1\" /><text x=\"423.3371875\" y=\"125.0\" dominant-baseline=\"middle\" text-anchor=\"middle\" font-size=\"18px\">X</text></svg>"
      ],
      "text/plain": [
       "<cirq.contrib.svg.svg.SVGCircuit at 0x7fde54a51b90>"
      ]
     },
     "execution_count": 9,
     "metadata": {},
     "output_type": "execute_result"
    }
   ],
   "source": [
    "SVGCircuit(ttn_model_iris(cirq.GridQubit.rect(1,4)))"
   ]
  },
  {
   "cell_type": "code",
   "execution_count": 10,
   "metadata": {},
   "outputs": [],
   "source": [
    "@tf.function\n",
    "def custom_accuracy(y_true, y_pred):\n",
    "    y_true = tf.squeeze(y_true)\n",
    "    y_pred = tf.map_fn(lambda x: 1.0 if x >= 0.0 else 0.0, y_pred)\n",
    "    return tf.keras.backend.mean(tf.keras.backend.equal(y_true, y_pred))"
   ]
  },
  {
   "cell_type": "code",
   "execution_count": 11,
   "metadata": {},
   "outputs": [
    {
     "name": "stdout",
     "output_type": "stream",
     "text": [
      "Failed to import pydot. You must install pydot and graphviz for `pydotprint` to work.\n"
     ]
    }
   ],
   "source": [
    "# declare qubits and readout operators\n",
    "cluster_state_bits = cirq.GridQubit.rect(1, 4)\n",
    "readout_operators = cirq.Z(cluster_state_bits[3])\n",
    "\n",
    "iris_ttn_model = ttn_model_iris(cluster_state_bits)\n",
    "iris_data_input = tf.keras.Input(shape=(), dtype=tf.dtypes.string)\n",
    "iris_pqc = tfq.layers.PQC(iris_ttn_model, readout_operators)\n",
    "iris_measurement_output = iris_pqc(iris_data_input)\n",
    "\n",
    "iris_model = tf.keras.Model(inputs=iris_data_input, outputs=iris_measurement_output)\n",
    "\n",
    "# Standard compilation for classification\n",
    "iris_model.compile(optimizer=tf.keras.optimizers.Adam(learning_rate=0.1), \n",
    "                   loss=tf.keras.losses.MSE, metrics=[custom_accuracy])\n",
    "tf.keras.utils.plot_model(iris_model, show_shapes=True, dpi=70)"
   ]
  },
  {
   "cell_type": "markdown",
   "metadata": {},
   "source": [
    "### Training"
   ]
  },
  {
   "cell_type": "code",
   "execution_count": null,
   "metadata": {},
   "outputs": [
    {
     "name": "stdout",
     "output_type": "stream",
     "text": [
      "Train on 75 samples, validate on 25 samples\n",
      "Epoch 1/25\n",
      "16/75 [=====>........................] - ETA: 4s - loss: 0.9350 - custom_accuracy: 0.5625"
     ]
    }
   ],
   "source": [
    "history = iris_model.fit(x=X_train, y=y_train, batch_size=16, epochs=25, verbose=1, validation_data=(X_test, y_test))"
   ]
  },
  {
   "cell_type": "code",
   "execution_count": null,
   "metadata": {},
   "outputs": [],
   "source": [
    "plt.plot(history.history['loss'])\n",
    "plt.title(\"Learning to classify quantum data\")\n",
    "plt.xlabel(\"Iterations\")\n",
    "plt.ylabel(\"Error in classification\")\n",
    "plt.show()\n",
    "print(\"Final loss value:\")\n",
    "print(history.history[\"loss\"][-1])"
   ]
  },
  {
   "cell_type": "code",
   "execution_count": null,
   "metadata": {},
   "outputs": [],
   "source": []
  },
  {
   "cell_type": "code",
   "execution_count": null,
   "metadata": {},
   "outputs": [],
   "source": []
  }
 ],
 "metadata": {
  "kernelspec": {
   "display_name": "Python 3",
   "language": "python",
   "name": "python3"
  },
  "language_info": {
   "codemirror_mode": {
    "name": "ipython",
    "version": 3
   },
   "file_extension": ".py",
   "mimetype": "text/x-python",
   "name": "python",
   "nbconvert_exporter": "python",
   "pygments_lexer": "ipython3",
   "version": "3.7.5"
  }
 },
 "nbformat": 4,
 "nbformat_minor": 4
}
