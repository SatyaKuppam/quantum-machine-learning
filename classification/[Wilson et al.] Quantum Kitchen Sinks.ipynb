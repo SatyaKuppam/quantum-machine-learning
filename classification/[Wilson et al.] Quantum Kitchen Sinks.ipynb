{
 "cells": [
  {
   "cell_type": "code",
   "execution_count": 47,
   "metadata": {},
   "outputs": [],
   "source": [
    "from cirq.contrib.svg import SVGCircuit\n",
    "from sklearn.datasets import fetch_openml\n",
    "from mnist import MNISTData\n",
    "\n",
    "import cirq\n",
    "import numpy as np\n",
    "import tensorflow_quantum as tfq\n",
    "import tensorflow as tf\n",
    "\n",
    "seed = 42\n",
    "tf.random.set_seed(seed)"
   ]
  },
  {
   "cell_type": "code",
   "execution_count": 200,
   "metadata": {},
   "outputs": [],
   "source": [
    "# Declare a QKS layer that extends the keras Layer\n",
    "class TwoQubitQKSAnsatzLayer(tf.keras.layers.Layer):\n",
    "    def __init__(self, qubits, uniform_min_value=0.0, uniform_max_value=2.0 * np.pi, stddev=0.1):\n",
    "        super(TwoQubitQKSAnsatzLayer, self).__init__()\n",
    "        self.q = 2 # because two qubits, variable names q, p, r are the same as in Wilson et al.\n",
    "        self.stddev = tf.Variable(initial_value=stddev, trainable=True)\n",
    "        self.uniform_min_value = 0.0\n",
    "        self.uniform_max_value = 2.0 * np.pi\n",
    "        self.qubits = qubits\n",
    "    \n",
    "    def build(self, input_shape):\n",
    "        # creates a mask, which will stay contant throught\n",
    "        batch_size, p = input_shape\n",
    "        r = int(p/self.q)\n",
    "        ones, mask = np.ones((self.q * batch_size, p)), np.random.randint(0, 2, self.q * input_shape[0])\n",
    "        ones[mask==0,:r], ones[mask==1,r:] = 0.0, 0.0\n",
    "        self.mask = ones.reshape((batch_size, self.q, p))\n",
    "    \n",
    "    def _ansatz(self, theta):\n",
    "        theta = theta.numpy()\n",
    "        circuit = cirq.Circuit()\n",
    "        circuit.append(cirq.rx(theta[0])(self.qubits[0]))\n",
    "        circuit.append(cirq.rx(theta[1])(self.qubits[1]))\n",
    "        circuit.append(cirq.CNOT(self.qubits[0], qubits[1]))\n",
    "        return circuit\n",
    "    \n",
    "    def call(self, input):\n",
    "        batch_size, p = input.shape\n",
    "        omega = tf.random.normal((batch_size, self.q, p), mean=0.0, stddev=self.stddev) * self.mask\n",
    "        beta = tf.random.uniform((batch_size, self.q), self.uniform_min_value, self.uniform_max_value)\n",
    "        \n",
    "        parameters = tf.keras.backend.batch_dot(input, omega, axes=(1, 2)) + beta\n",
    "        return tfq.convert_to_tensor([self._ansatz(param) for param in parameters])"
   ]
  },
  {
   "cell_type": "code",
   "execution_count": 201,
   "metadata": {},
   "outputs": [],
   "source": [
    "qubits = cirq.GridQubit.rect(1,2)\n",
    "qks_ansatz = TwoQubitQKSAnsatzLayer(qubits)"
   ]
  },
  {
   "cell_type": "code",
   "execution_count": 202,
   "metadata": {},
   "outputs": [
    {
     "data": {
      "text/plain": [
       "[<tf.Variable 'Variable:0' shape=() dtype=float32, numpy=0.1>]"
      ]
     },
     "execution_count": 202,
     "metadata": {},
     "output_type": "execute_result"
    }
   ],
   "source": [
    "qks_ansatz.trainable_variables"
   ]
  },
  {
   "cell_type": "code",
   "execution_count": 205,
   "metadata": {},
   "outputs": [
    {
     "data": {
      "text/plain": [
       "TensorShape([5])"
      ]
     },
     "execution_count": 205,
     "metadata": {},
     "output_type": "execute_result"
    }
   ],
   "source": [
    "data = tf.random.normal((5, 10), mean=0.0, stddev=1.0)\n",
    "qks_ansatz(data).shape"
   ]
  },
  {
   "cell_type": "code",
   "execution_count": 208,
   "metadata": {},
   "outputs": [
    {
     "data": {
      "image/svg+xml": [
       "<svg xmlns=\"http://www.w3.org/2000/svg\" width=\"274.38546875000003\" height=\"100.0\"><line x1=\"34.7588671875\" x2=\"244.38546875000003\" y1=\"25.0\" y2=\"25.0\" stroke=\"#1967d2\" stroke-width=\"1\" /><line x1=\"34.7588671875\" x2=\"244.38546875000003\" y1=\"75.0\" y2=\"75.0\" stroke=\"#1967d2\" stroke-width=\"1\" /><line x1=\"204.38546875000003\" x2=\"204.38546875000003\" y1=\"25.0\" y2=\"75.0\" stroke=\"black\" stroke-width=\"3\" /><rect x=\"10.0\" y=\"5.0\" width=\"49.517734375\" height=\"40\" stroke=\"black\" fill=\"white\" stroke-width=\"0\" /><text x=\"34.7588671875\" y=\"25.0\" dominant-baseline=\"middle\" text-anchor=\"middle\" font-size=\"14px\">(0, 0): </text><rect x=\"10.0\" y=\"55.0\" width=\"49.517734375\" height=\"40\" stroke=\"black\" fill=\"white\" stroke-width=\"0\" /><text x=\"34.7588671875\" y=\"75.0\" dominant-baseline=\"middle\" text-anchor=\"middle\" font-size=\"14px\">(0, 1): </text><rect x=\"79.517734375\" y=\"5.0\" width=\"84.86773437500001\" height=\"40\" stroke=\"black\" fill=\"white\" stroke-width=\"1\" /><text x=\"121.9516015625\" y=\"25.0\" dominant-baseline=\"middle\" text-anchor=\"middle\" font-size=\"14px\">Rx(0.159π)</text><rect x=\"79.517734375\" y=\"55.0\" width=\"84.86773437500001\" height=\"40\" stroke=\"black\" fill=\"white\" stroke-width=\"1\" /><text x=\"121.9516015625\" y=\"75.0\" dominant-baseline=\"middle\" text-anchor=\"middle\" font-size=\"14px\">Rx(0.191π)</text><circle cx=\"204.38546875000003\" cy=\"25.0\" r=\"10.0\" /><rect x=\"184.38546875000003\" y=\"55.0\" width=\"40\" height=\"40\" stroke=\"black\" fill=\"white\" stroke-width=\"1\" /><text x=\"204.38546875000003\" y=\"75.0\" dominant-baseline=\"middle\" text-anchor=\"middle\" font-size=\"18px\">X</text></svg>"
      ],
      "text/plain": [
       "<cirq.contrib.svg.svg.SVGCircuit at 0x7fa0e3139f98>"
      ]
     },
     "execution_count": 208,
     "metadata": {},
     "output_type": "execute_result"
    }
   ],
   "source": [
    "SVGCircuit(qks_ansatz._ansatz(tf.convert_to_tensor([0.5, 0.6])))"
   ]
  },
  {
   "cell_type": "code",
   "execution_count": 43,
   "metadata": {},
   "outputs": [],
   "source": [
    "class QuantumKitchenSinks:\n",
    "    def __init__(self, X_train, y_train, X_test, y_test):\n",
    "        self.X_train = X_train\n",
    "        self.y_train = y_train\n",
    "        self.X_test = X_test\n",
    "        self.y_test = y_test\n",
    "    \n",
    "    @tf.function\n",
    "    def _custom_accuracy(self, y_true, y_pred):\n",
    "        y_true = tf.squeeze(y_true)\n",
    "        y_pred = tf.map_fn(lambda x: 1.0 if x >= 0.0 else -1.0, y_pred)\n",
    "        return tf.keras.backend.mean(tf.keras.backend.equal(y_true, y_pred))\n",
    "    \n",
    "    def _mnist_model_compile(self, learning_rate=0.05):\n",
    "        cluster_state_bits = cirq.GridQubit.rect(1,2)\n",
    "        readout_operators = [cirq.Z(cluster_state_bits[0], cirq.Z(cluster_state_bits[1]))]\n",
    "        \n",
    "        inputs = tf.keras."
   ]
  },
  {
   "cell_type": "code",
   "execution_count": 209,
   "metadata": {},
   "outputs": [
    {
     "name": "stdout",
     "output_type": "stream",
     "text": [
      "(12108, 784) (1346, 784) (12108,) (1346,)\n"
     ]
    }
   ],
   "source": [
    "mnist_data = MNISTData(seed)\n",
    "X_train, X_test, y_train, y_test = mnist_data.get_three_five_test_train_split()\n",
    "print(X_train.shape, X_test.shape, y_train.shape, y_test.shape)"
   ]
  },
  {
   "cell_type": "code",
   "execution_count": 211,
   "metadata": {},
   "outputs": [
    {
     "name": "stdout",
     "output_type": "stream",
     "text": [
      "Downloading data from https://storage.googleapis.com/tensorflow/tf-keras-datasets/mnist.npz\n",
      "11493376/11490434 [==============================] - 0s 0us/step\n"
     ]
    }
   ],
   "source": [
    "(x_train, y_train), (x_test, y_test) = tf.keras.datasets.mnist.load_data()"
   ]
  },
  {
   "cell_type": "code",
   "execution_count": 212,
   "metadata": {},
   "outputs": [
    {
     "data": {
      "text/plain": [
       "(60000, 28, 28)"
      ]
     },
     "execution_count": 212,
     "metadata": {},
     "output_type": "execute_result"
    }
   ],
   "source": [
    "x_train.shape"
   ]
  },
  {
   "cell_type": "code",
   "execution_count": 213,
   "metadata": {},
   "outputs": [],
   "source": [
    "x_train = np.reshape(x_train, (-1, 784))"
   ]
  },
  {
   "cell_type": "code",
   "execution_count": 214,
   "metadata": {},
   "outputs": [
    {
     "data": {
      "text/plain": [
       "(60000, 784)"
      ]
     },
     "execution_count": 214,
     "metadata": {},
     "output_type": "execute_result"
    }
   ],
   "source": [
    "x_train.shape"
   ]
  },
  {
   "cell_type": "code",
   "execution_count": null,
   "metadata": {},
   "outputs": [],
   "source": []
  }
 ],
 "metadata": {
  "kernelspec": {
   "display_name": "Python 3",
   "language": "python",
   "name": "python3"
  },
  "language_info": {
   "codemirror_mode": {
    "name": "ipython",
    "version": 3
   },
   "file_extension": ".py",
   "mimetype": "text/x-python",
   "name": "python",
   "nbconvert_exporter": "python",
   "pygments_lexer": "ipython3",
   "version": "3.6.9"
  }
 },
 "nbformat": 4,
 "nbformat_minor": 4
}
